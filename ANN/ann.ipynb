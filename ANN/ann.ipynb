{
 "cells": [
  {
   "cell_type": "code",
   "execution_count": 1,
   "metadata": {},
   "outputs": [],
   "source": [
    "import numpy as np\n",
    "import pandas as pd\n",
    "import matplotlib.pyplot as plt\n",
    "import seaborn as sns"
   ]
  },
  {
   "cell_type": "code",
   "execution_count": 2,
   "metadata": {},
   "outputs": [],
   "source": [
    "df=pd.read_csv('Churn_Modelling.csv')"
   ]
  },
  {
   "cell_type": "code",
   "execution_count": 3,
   "metadata": {},
   "outputs": [
    {
     "data": {
      "text/html": [
       "<div>\n",
       "<style scoped>\n",
       "    .dataframe tbody tr th:only-of-type {\n",
       "        vertical-align: middle;\n",
       "    }\n",
       "\n",
       "    .dataframe tbody tr th {\n",
       "        vertical-align: top;\n",
       "    }\n",
       "\n",
       "    .dataframe thead th {\n",
       "        text-align: right;\n",
       "    }\n",
       "</style>\n",
       "<table border=\"1\" class=\"dataframe\">\n",
       "  <thead>\n",
       "    <tr style=\"text-align: right;\">\n",
       "      <th></th>\n",
       "      <th>RowNumber</th>\n",
       "      <th>CustomerId</th>\n",
       "      <th>Surname</th>\n",
       "      <th>CreditScore</th>\n",
       "      <th>Geography</th>\n",
       "      <th>Gender</th>\n",
       "      <th>Age</th>\n",
       "      <th>Tenure</th>\n",
       "      <th>Balance</th>\n",
       "      <th>NumOfProducts</th>\n",
       "      <th>HasCrCard</th>\n",
       "      <th>IsActiveMember</th>\n",
       "      <th>EstimatedSalary</th>\n",
       "      <th>Exited</th>\n",
       "    </tr>\n",
       "  </thead>\n",
       "  <tbody>\n",
       "    <tr>\n",
       "      <th>0</th>\n",
       "      <td>1</td>\n",
       "      <td>15634602</td>\n",
       "      <td>Hargrave</td>\n",
       "      <td>619</td>\n",
       "      <td>France</td>\n",
       "      <td>Female</td>\n",
       "      <td>42</td>\n",
       "      <td>2</td>\n",
       "      <td>0.00</td>\n",
       "      <td>1</td>\n",
       "      <td>1</td>\n",
       "      <td>1</td>\n",
       "      <td>101348.88</td>\n",
       "      <td>1</td>\n",
       "    </tr>\n",
       "    <tr>\n",
       "      <th>1</th>\n",
       "      <td>2</td>\n",
       "      <td>15647311</td>\n",
       "      <td>Hill</td>\n",
       "      <td>608</td>\n",
       "      <td>Spain</td>\n",
       "      <td>Female</td>\n",
       "      <td>41</td>\n",
       "      <td>1</td>\n",
       "      <td>83807.86</td>\n",
       "      <td>1</td>\n",
       "      <td>0</td>\n",
       "      <td>1</td>\n",
       "      <td>112542.58</td>\n",
       "      <td>0</td>\n",
       "    </tr>\n",
       "    <tr>\n",
       "      <th>2</th>\n",
       "      <td>3</td>\n",
       "      <td>15619304</td>\n",
       "      <td>Onio</td>\n",
       "      <td>502</td>\n",
       "      <td>France</td>\n",
       "      <td>Female</td>\n",
       "      <td>42</td>\n",
       "      <td>8</td>\n",
       "      <td>159660.80</td>\n",
       "      <td>3</td>\n",
       "      <td>1</td>\n",
       "      <td>0</td>\n",
       "      <td>113931.57</td>\n",
       "      <td>1</td>\n",
       "    </tr>\n",
       "    <tr>\n",
       "      <th>3</th>\n",
       "      <td>4</td>\n",
       "      <td>15701354</td>\n",
       "      <td>Boni</td>\n",
       "      <td>699</td>\n",
       "      <td>France</td>\n",
       "      <td>Female</td>\n",
       "      <td>39</td>\n",
       "      <td>1</td>\n",
       "      <td>0.00</td>\n",
       "      <td>2</td>\n",
       "      <td>0</td>\n",
       "      <td>0</td>\n",
       "      <td>93826.63</td>\n",
       "      <td>0</td>\n",
       "    </tr>\n",
       "    <tr>\n",
       "      <th>4</th>\n",
       "      <td>5</td>\n",
       "      <td>15737888</td>\n",
       "      <td>Mitchell</td>\n",
       "      <td>850</td>\n",
       "      <td>Spain</td>\n",
       "      <td>Female</td>\n",
       "      <td>43</td>\n",
       "      <td>2</td>\n",
       "      <td>125510.82</td>\n",
       "      <td>1</td>\n",
       "      <td>1</td>\n",
       "      <td>1</td>\n",
       "      <td>79084.10</td>\n",
       "      <td>0</td>\n",
       "    </tr>\n",
       "  </tbody>\n",
       "</table>\n",
       "</div>"
      ],
      "text/plain": [
       "   RowNumber  CustomerId   Surname  CreditScore Geography  Gender  Age  \\\n",
       "0          1    15634602  Hargrave          619    France  Female   42   \n",
       "1          2    15647311      Hill          608     Spain  Female   41   \n",
       "2          3    15619304      Onio          502    France  Female   42   \n",
       "3          4    15701354      Boni          699    France  Female   39   \n",
       "4          5    15737888  Mitchell          850     Spain  Female   43   \n",
       "\n",
       "   Tenure    Balance  NumOfProducts  HasCrCard  IsActiveMember  \\\n",
       "0       2       0.00              1          1               1   \n",
       "1       1   83807.86              1          0               1   \n",
       "2       8  159660.80              3          1               0   \n",
       "3       1       0.00              2          0               0   \n",
       "4       2  125510.82              1          1               1   \n",
       "\n",
       "   EstimatedSalary  Exited  \n",
       "0        101348.88       1  \n",
       "1        112542.58       0  \n",
       "2        113931.57       1  \n",
       "3         93826.63       0  \n",
       "4         79084.10       0  "
      ]
     },
     "execution_count": 3,
     "metadata": {},
     "output_type": "execute_result"
    }
   ],
   "source": [
    "df.head()"
   ]
  },
  {
   "cell_type": "code",
   "execution_count": 4,
   "metadata": {},
   "outputs": [],
   "source": [
    "X=df.iloc[:,3:13]\n",
    "y=df.iloc[:,13]"
   ]
  },
  {
   "cell_type": "code",
   "execution_count": 5,
   "metadata": {},
   "outputs": [
    {
     "data": {
      "text/html": [
       "<div>\n",
       "<style scoped>\n",
       "    .dataframe tbody tr th:only-of-type {\n",
       "        vertical-align: middle;\n",
       "    }\n",
       "\n",
       "    .dataframe tbody tr th {\n",
       "        vertical-align: top;\n",
       "    }\n",
       "\n",
       "    .dataframe thead th {\n",
       "        text-align: right;\n",
       "    }\n",
       "</style>\n",
       "<table border=\"1\" class=\"dataframe\">\n",
       "  <thead>\n",
       "    <tr style=\"text-align: right;\">\n",
       "      <th></th>\n",
       "      <th>CreditScore</th>\n",
       "      <th>Geography</th>\n",
       "      <th>Gender</th>\n",
       "      <th>Age</th>\n",
       "      <th>Tenure</th>\n",
       "      <th>Balance</th>\n",
       "      <th>NumOfProducts</th>\n",
       "      <th>HasCrCard</th>\n",
       "      <th>IsActiveMember</th>\n",
       "      <th>EstimatedSalary</th>\n",
       "    </tr>\n",
       "  </thead>\n",
       "  <tbody>\n",
       "    <tr>\n",
       "      <th>0</th>\n",
       "      <td>619</td>\n",
       "      <td>France</td>\n",
       "      <td>Female</td>\n",
       "      <td>42</td>\n",
       "      <td>2</td>\n",
       "      <td>0.00</td>\n",
       "      <td>1</td>\n",
       "      <td>1</td>\n",
       "      <td>1</td>\n",
       "      <td>101348.88</td>\n",
       "    </tr>\n",
       "    <tr>\n",
       "      <th>1</th>\n",
       "      <td>608</td>\n",
       "      <td>Spain</td>\n",
       "      <td>Female</td>\n",
       "      <td>41</td>\n",
       "      <td>1</td>\n",
       "      <td>83807.86</td>\n",
       "      <td>1</td>\n",
       "      <td>0</td>\n",
       "      <td>1</td>\n",
       "      <td>112542.58</td>\n",
       "    </tr>\n",
       "    <tr>\n",
       "      <th>2</th>\n",
       "      <td>502</td>\n",
       "      <td>France</td>\n",
       "      <td>Female</td>\n",
       "      <td>42</td>\n",
       "      <td>8</td>\n",
       "      <td>159660.80</td>\n",
       "      <td>3</td>\n",
       "      <td>1</td>\n",
       "      <td>0</td>\n",
       "      <td>113931.57</td>\n",
       "    </tr>\n",
       "    <tr>\n",
       "      <th>3</th>\n",
       "      <td>699</td>\n",
       "      <td>France</td>\n",
       "      <td>Female</td>\n",
       "      <td>39</td>\n",
       "      <td>1</td>\n",
       "      <td>0.00</td>\n",
       "      <td>2</td>\n",
       "      <td>0</td>\n",
       "      <td>0</td>\n",
       "      <td>93826.63</td>\n",
       "    </tr>\n",
       "    <tr>\n",
       "      <th>4</th>\n",
       "      <td>850</td>\n",
       "      <td>Spain</td>\n",
       "      <td>Female</td>\n",
       "      <td>43</td>\n",
       "      <td>2</td>\n",
       "      <td>125510.82</td>\n",
       "      <td>1</td>\n",
       "      <td>1</td>\n",
       "      <td>1</td>\n",
       "      <td>79084.10</td>\n",
       "    </tr>\n",
       "  </tbody>\n",
       "</table>\n",
       "</div>"
      ],
      "text/plain": [
       "   CreditScore Geography  Gender  Age  Tenure    Balance  NumOfProducts  \\\n",
       "0          619    France  Female   42       2       0.00              1   \n",
       "1          608     Spain  Female   41       1   83807.86              1   \n",
       "2          502    France  Female   42       8  159660.80              3   \n",
       "3          699    France  Female   39       1       0.00              2   \n",
       "4          850     Spain  Female   43       2  125510.82              1   \n",
       "\n",
       "   HasCrCard  IsActiveMember  EstimatedSalary  \n",
       "0          1               1        101348.88  \n",
       "1          0               1        112542.58  \n",
       "2          1               0        113931.57  \n",
       "3          0               0         93826.63  \n",
       "4          1               1         79084.10  "
      ]
     },
     "execution_count": 5,
     "metadata": {},
     "output_type": "execute_result"
    }
   ],
   "source": [
    "X.head()"
   ]
  },
  {
   "cell_type": "code",
   "execution_count": 6,
   "metadata": {},
   "outputs": [
    {
     "data": {
      "text/plain": [
       "0    1\n",
       "1    0\n",
       "2    1\n",
       "3    0\n",
       "4    0\n",
       "Name: Exited, dtype: int64"
      ]
     },
     "execution_count": 6,
     "metadata": {},
     "output_type": "execute_result"
    }
   ],
   "source": [
    "y.head()"
   ]
  },
  {
   "cell_type": "code",
   "execution_count": 7,
   "metadata": {},
   "outputs": [],
   "source": [
    "geography=pd.get_dummies(X['Geography'],drop_first=True)\n",
    "gender=pd.get_dummies(X['Gender'],drop_first=True)"
   ]
  },
  {
   "cell_type": "code",
   "execution_count": 8,
   "metadata": {},
   "outputs": [
    {
     "data": {
      "text/html": [
       "<div>\n",
       "<style scoped>\n",
       "    .dataframe tbody tr th:only-of-type {\n",
       "        vertical-align: middle;\n",
       "    }\n",
       "\n",
       "    .dataframe tbody tr th {\n",
       "        vertical-align: top;\n",
       "    }\n",
       "\n",
       "    .dataframe thead th {\n",
       "        text-align: right;\n",
       "    }\n",
       "</style>\n",
       "<table border=\"1\" class=\"dataframe\">\n",
       "  <thead>\n",
       "    <tr style=\"text-align: right;\">\n",
       "      <th></th>\n",
       "      <th>Germany</th>\n",
       "      <th>Spain</th>\n",
       "    </tr>\n",
       "  </thead>\n",
       "  <tbody>\n",
       "    <tr>\n",
       "      <th>0</th>\n",
       "      <td>0</td>\n",
       "      <td>0</td>\n",
       "    </tr>\n",
       "    <tr>\n",
       "      <th>1</th>\n",
       "      <td>0</td>\n",
       "      <td>1</td>\n",
       "    </tr>\n",
       "    <tr>\n",
       "      <th>2</th>\n",
       "      <td>0</td>\n",
       "      <td>0</td>\n",
       "    </tr>\n",
       "    <tr>\n",
       "      <th>3</th>\n",
       "      <td>0</td>\n",
       "      <td>0</td>\n",
       "    </tr>\n",
       "    <tr>\n",
       "      <th>4</th>\n",
       "      <td>0</td>\n",
       "      <td>1</td>\n",
       "    </tr>\n",
       "  </tbody>\n",
       "</table>\n",
       "</div>"
      ],
      "text/plain": [
       "   Germany  Spain\n",
       "0        0      0\n",
       "1        0      1\n",
       "2        0      0\n",
       "3        0      0\n",
       "4        0      1"
      ]
     },
     "execution_count": 8,
     "metadata": {},
     "output_type": "execute_result"
    }
   ],
   "source": [
    "geography.head()"
   ]
  },
  {
   "cell_type": "code",
   "execution_count": 9,
   "metadata": {},
   "outputs": [
    {
     "data": {
      "text/html": [
       "<div>\n",
       "<style scoped>\n",
       "    .dataframe tbody tr th:only-of-type {\n",
       "        vertical-align: middle;\n",
       "    }\n",
       "\n",
       "    .dataframe tbody tr th {\n",
       "        vertical-align: top;\n",
       "    }\n",
       "\n",
       "    .dataframe thead th {\n",
       "        text-align: right;\n",
       "    }\n",
       "</style>\n",
       "<table border=\"1\" class=\"dataframe\">\n",
       "  <thead>\n",
       "    <tr style=\"text-align: right;\">\n",
       "      <th></th>\n",
       "      <th>Male</th>\n",
       "    </tr>\n",
       "  </thead>\n",
       "  <tbody>\n",
       "    <tr>\n",
       "      <th>0</th>\n",
       "      <td>0</td>\n",
       "    </tr>\n",
       "    <tr>\n",
       "      <th>1</th>\n",
       "      <td>0</td>\n",
       "    </tr>\n",
       "    <tr>\n",
       "      <th>2</th>\n",
       "      <td>0</td>\n",
       "    </tr>\n",
       "    <tr>\n",
       "      <th>3</th>\n",
       "      <td>0</td>\n",
       "    </tr>\n",
       "    <tr>\n",
       "      <th>4</th>\n",
       "      <td>0</td>\n",
       "    </tr>\n",
       "  </tbody>\n",
       "</table>\n",
       "</div>"
      ],
      "text/plain": [
       "   Male\n",
       "0     0\n",
       "1     0\n",
       "2     0\n",
       "3     0\n",
       "4     0"
      ]
     },
     "execution_count": 9,
     "metadata": {},
     "output_type": "execute_result"
    }
   ],
   "source": [
    "gender.head()"
   ]
  },
  {
   "cell_type": "code",
   "execution_count": 10,
   "metadata": {},
   "outputs": [],
   "source": [
    "X=pd.concat([X,geography,gender],axis=1)"
   ]
  },
  {
   "cell_type": "code",
   "execution_count": 11,
   "metadata": {},
   "outputs": [
    {
     "data": {
      "text/html": [
       "<div>\n",
       "<style scoped>\n",
       "    .dataframe tbody tr th:only-of-type {\n",
       "        vertical-align: middle;\n",
       "    }\n",
       "\n",
       "    .dataframe tbody tr th {\n",
       "        vertical-align: top;\n",
       "    }\n",
       "\n",
       "    .dataframe thead th {\n",
       "        text-align: right;\n",
       "    }\n",
       "</style>\n",
       "<table border=\"1\" class=\"dataframe\">\n",
       "  <thead>\n",
       "    <tr style=\"text-align: right;\">\n",
       "      <th></th>\n",
       "      <th>CreditScore</th>\n",
       "      <th>Geography</th>\n",
       "      <th>Gender</th>\n",
       "      <th>Age</th>\n",
       "      <th>Tenure</th>\n",
       "      <th>Balance</th>\n",
       "      <th>NumOfProducts</th>\n",
       "      <th>HasCrCard</th>\n",
       "      <th>IsActiveMember</th>\n",
       "      <th>EstimatedSalary</th>\n",
       "      <th>Germany</th>\n",
       "      <th>Spain</th>\n",
       "      <th>Male</th>\n",
       "    </tr>\n",
       "  </thead>\n",
       "  <tbody>\n",
       "    <tr>\n",
       "      <th>0</th>\n",
       "      <td>619</td>\n",
       "      <td>France</td>\n",
       "      <td>Female</td>\n",
       "      <td>42</td>\n",
       "      <td>2</td>\n",
       "      <td>0.00</td>\n",
       "      <td>1</td>\n",
       "      <td>1</td>\n",
       "      <td>1</td>\n",
       "      <td>101348.88</td>\n",
       "      <td>0</td>\n",
       "      <td>0</td>\n",
       "      <td>0</td>\n",
       "    </tr>\n",
       "    <tr>\n",
       "      <th>1</th>\n",
       "      <td>608</td>\n",
       "      <td>Spain</td>\n",
       "      <td>Female</td>\n",
       "      <td>41</td>\n",
       "      <td>1</td>\n",
       "      <td>83807.86</td>\n",
       "      <td>1</td>\n",
       "      <td>0</td>\n",
       "      <td>1</td>\n",
       "      <td>112542.58</td>\n",
       "      <td>0</td>\n",
       "      <td>1</td>\n",
       "      <td>0</td>\n",
       "    </tr>\n",
       "    <tr>\n",
       "      <th>2</th>\n",
       "      <td>502</td>\n",
       "      <td>France</td>\n",
       "      <td>Female</td>\n",
       "      <td>42</td>\n",
       "      <td>8</td>\n",
       "      <td>159660.80</td>\n",
       "      <td>3</td>\n",
       "      <td>1</td>\n",
       "      <td>0</td>\n",
       "      <td>113931.57</td>\n",
       "      <td>0</td>\n",
       "      <td>0</td>\n",
       "      <td>0</td>\n",
       "    </tr>\n",
       "    <tr>\n",
       "      <th>3</th>\n",
       "      <td>699</td>\n",
       "      <td>France</td>\n",
       "      <td>Female</td>\n",
       "      <td>39</td>\n",
       "      <td>1</td>\n",
       "      <td>0.00</td>\n",
       "      <td>2</td>\n",
       "      <td>0</td>\n",
       "      <td>0</td>\n",
       "      <td>93826.63</td>\n",
       "      <td>0</td>\n",
       "      <td>0</td>\n",
       "      <td>0</td>\n",
       "    </tr>\n",
       "    <tr>\n",
       "      <th>4</th>\n",
       "      <td>850</td>\n",
       "      <td>Spain</td>\n",
       "      <td>Female</td>\n",
       "      <td>43</td>\n",
       "      <td>2</td>\n",
       "      <td>125510.82</td>\n",
       "      <td>1</td>\n",
       "      <td>1</td>\n",
       "      <td>1</td>\n",
       "      <td>79084.10</td>\n",
       "      <td>0</td>\n",
       "      <td>1</td>\n",
       "      <td>0</td>\n",
       "    </tr>\n",
       "  </tbody>\n",
       "</table>\n",
       "</div>"
      ],
      "text/plain": [
       "   CreditScore Geography  Gender  Age  Tenure    Balance  NumOfProducts  \\\n",
       "0          619    France  Female   42       2       0.00              1   \n",
       "1          608     Spain  Female   41       1   83807.86              1   \n",
       "2          502    France  Female   42       8  159660.80              3   \n",
       "3          699    France  Female   39       1       0.00              2   \n",
       "4          850     Spain  Female   43       2  125510.82              1   \n",
       "\n",
       "   HasCrCard  IsActiveMember  EstimatedSalary  Germany  Spain  Male  \n",
       "0          1               1        101348.88        0      0     0  \n",
       "1          0               1        112542.58        0      1     0  \n",
       "2          1               0        113931.57        0      0     0  \n",
       "3          0               0         93826.63        0      0     0  \n",
       "4          1               1         79084.10        0      1     0  "
      ]
     },
     "execution_count": 11,
     "metadata": {},
     "output_type": "execute_result"
    }
   ],
   "source": [
    "X.head()"
   ]
  },
  {
   "cell_type": "code",
   "execution_count": 12,
   "metadata": {},
   "outputs": [],
   "source": [
    "X=X.drop(['Geography','Gender'],axis=1)"
   ]
  },
  {
   "cell_type": "code",
   "execution_count": 13,
   "metadata": {},
   "outputs": [
    {
     "data": {
      "text/html": [
       "<div>\n",
       "<style scoped>\n",
       "    .dataframe tbody tr th:only-of-type {\n",
       "        vertical-align: middle;\n",
       "    }\n",
       "\n",
       "    .dataframe tbody tr th {\n",
       "        vertical-align: top;\n",
       "    }\n",
       "\n",
       "    .dataframe thead th {\n",
       "        text-align: right;\n",
       "    }\n",
       "</style>\n",
       "<table border=\"1\" class=\"dataframe\">\n",
       "  <thead>\n",
       "    <tr style=\"text-align: right;\">\n",
       "      <th></th>\n",
       "      <th>CreditScore</th>\n",
       "      <th>Age</th>\n",
       "      <th>Tenure</th>\n",
       "      <th>Balance</th>\n",
       "      <th>NumOfProducts</th>\n",
       "      <th>HasCrCard</th>\n",
       "      <th>IsActiveMember</th>\n",
       "      <th>EstimatedSalary</th>\n",
       "      <th>Germany</th>\n",
       "      <th>Spain</th>\n",
       "      <th>Male</th>\n",
       "    </tr>\n",
       "  </thead>\n",
       "  <tbody>\n",
       "    <tr>\n",
       "      <th>0</th>\n",
       "      <td>619</td>\n",
       "      <td>42</td>\n",
       "      <td>2</td>\n",
       "      <td>0.00</td>\n",
       "      <td>1</td>\n",
       "      <td>1</td>\n",
       "      <td>1</td>\n",
       "      <td>101348.88</td>\n",
       "      <td>0</td>\n",
       "      <td>0</td>\n",
       "      <td>0</td>\n",
       "    </tr>\n",
       "    <tr>\n",
       "      <th>1</th>\n",
       "      <td>608</td>\n",
       "      <td>41</td>\n",
       "      <td>1</td>\n",
       "      <td>83807.86</td>\n",
       "      <td>1</td>\n",
       "      <td>0</td>\n",
       "      <td>1</td>\n",
       "      <td>112542.58</td>\n",
       "      <td>0</td>\n",
       "      <td>1</td>\n",
       "      <td>0</td>\n",
       "    </tr>\n",
       "    <tr>\n",
       "      <th>2</th>\n",
       "      <td>502</td>\n",
       "      <td>42</td>\n",
       "      <td>8</td>\n",
       "      <td>159660.80</td>\n",
       "      <td>3</td>\n",
       "      <td>1</td>\n",
       "      <td>0</td>\n",
       "      <td>113931.57</td>\n",
       "      <td>0</td>\n",
       "      <td>0</td>\n",
       "      <td>0</td>\n",
       "    </tr>\n",
       "    <tr>\n",
       "      <th>3</th>\n",
       "      <td>699</td>\n",
       "      <td>39</td>\n",
       "      <td>1</td>\n",
       "      <td>0.00</td>\n",
       "      <td>2</td>\n",
       "      <td>0</td>\n",
       "      <td>0</td>\n",
       "      <td>93826.63</td>\n",
       "      <td>0</td>\n",
       "      <td>0</td>\n",
       "      <td>0</td>\n",
       "    </tr>\n",
       "    <tr>\n",
       "      <th>4</th>\n",
       "      <td>850</td>\n",
       "      <td>43</td>\n",
       "      <td>2</td>\n",
       "      <td>125510.82</td>\n",
       "      <td>1</td>\n",
       "      <td>1</td>\n",
       "      <td>1</td>\n",
       "      <td>79084.10</td>\n",
       "      <td>0</td>\n",
       "      <td>1</td>\n",
       "      <td>0</td>\n",
       "    </tr>\n",
       "  </tbody>\n",
       "</table>\n",
       "</div>"
      ],
      "text/plain": [
       "   CreditScore  Age  Tenure    Balance  NumOfProducts  HasCrCard  \\\n",
       "0          619   42       2       0.00              1          1   \n",
       "1          608   41       1   83807.86              1          0   \n",
       "2          502   42       8  159660.80              3          1   \n",
       "3          699   39       1       0.00              2          0   \n",
       "4          850   43       2  125510.82              1          1   \n",
       "\n",
       "   IsActiveMember  EstimatedSalary  Germany  Spain  Male  \n",
       "0               1        101348.88        0      0     0  \n",
       "1               1        112542.58        0      1     0  \n",
       "2               0        113931.57        0      0     0  \n",
       "3               0         93826.63        0      0     0  \n",
       "4               1         79084.10        0      1     0  "
      ]
     },
     "execution_count": 13,
     "metadata": {},
     "output_type": "execute_result"
    }
   ],
   "source": [
    "X.head()"
   ]
  },
  {
   "cell_type": "code",
   "execution_count": 14,
   "metadata": {},
   "outputs": [],
   "source": [
    "from sklearn.model_selection import train_test_split"
   ]
  },
  {
   "cell_type": "code",
   "execution_count": 15,
   "metadata": {},
   "outputs": [],
   "source": [
    "X_train,X_test,y_train,y_test=train_test_split(X,y,test_size=0.2,random_state=0)"
   ]
  },
  {
   "cell_type": "code",
   "execution_count": 16,
   "metadata": {},
   "outputs": [
    {
     "data": {
      "text/plain": [
       "(8000, 11)"
      ]
     },
     "execution_count": 16,
     "metadata": {},
     "output_type": "execute_result"
    }
   ],
   "source": [
    "X_train.shape"
   ]
  },
  {
   "cell_type": "code",
   "execution_count": 17,
   "metadata": {},
   "outputs": [
    {
     "data": {
      "text/plain": [
       "(8000,)"
      ]
     },
     "execution_count": 17,
     "metadata": {},
     "output_type": "execute_result"
    }
   ],
   "source": [
    "y_train.shape"
   ]
  },
  {
   "cell_type": "code",
   "execution_count": 18,
   "metadata": {},
   "outputs": [
    {
     "data": {
      "text/plain": [
       "(2000, 11)"
      ]
     },
     "execution_count": 18,
     "metadata": {},
     "output_type": "execute_result"
    }
   ],
   "source": [
    "X_test.shape"
   ]
  },
  {
   "cell_type": "code",
   "execution_count": 19,
   "metadata": {},
   "outputs": [
    {
     "data": {
      "text/plain": [
       "(2000,)"
      ]
     },
     "execution_count": 19,
     "metadata": {},
     "output_type": "execute_result"
    }
   ],
   "source": [
    "y_test.shape"
   ]
  },
  {
   "cell_type": "code",
   "execution_count": 20,
   "metadata": {},
   "outputs": [],
   "source": [
    "from sklearn.preprocessing import StandardScaler\n",
    "sc=StandardScaler()\n",
    "X_train=sc.fit_transform(X_train)\n",
    "X_test=sc.transform(X_test)"
   ]
  },
  {
   "cell_type": "code",
   "execution_count": 21,
   "metadata": {},
   "outputs": [
    {
     "name": "stderr",
     "output_type": "stream",
     "text": [
      "Using TensorFlow backend.\n"
     ]
    }
   ],
   "source": [
    "import keras\n",
    "from keras.models import Sequential\n",
    "from keras.layers import Dense\n",
    "#form keras.layers import LeakyReLU,PReLU,ReLU\n",
    "from keras.layers import Dropout"
   ]
  },
  {
   "cell_type": "code",
   "execution_count": 23,
   "metadata": {},
   "outputs": [
    {
     "name": "stdout",
     "output_type": "stream",
     "text": [
      "WARNING:tensorflow:From C:\\Users\\Vaibhav\\Anaconda3\\lib\\site-packages\\tensorflow\\python\\framework\\op_def_library.py:263: colocate_with (from tensorflow.python.framework.ops) is deprecated and will be removed in a future version.\n",
      "Instructions for updating:\n",
      "Colocations handled automatically by placer.\n",
      "WARNING:tensorflow:From C:\\Users\\Vaibhav\\Anaconda3\\lib\\site-packages\\keras\\backend\\tensorflow_backend.py:3445: calling dropout (from tensorflow.python.ops.nn_ops) with keep_prob is deprecated and will be removed in a future version.\n",
      "Instructions for updating:\n",
      "Please use `rate` instead of `keep_prob`. Rate should be set to `rate = 1 - keep_prob`.\n"
     ]
    }
   ],
   "source": [
    "model=Sequential()\n",
    "model.add(Dense(units=10,kernel_initializer='he_uniform',activation='relu',input_dim=11))\n",
    "model.add(Dropout(0.3))"
   ]
  },
  {
   "cell_type": "code",
   "execution_count": 26,
   "metadata": {},
   "outputs": [],
   "source": [
    "model.add(Dense(units=20,kernel_initializer='he_uniform',activation='relu'))\n",
    "model.add(Dropout(0.4))\n",
    "model.add(Dense(units=15,kernel_initializer='he_uniform',activation='relu'))\n",
    "model.add(Dropout(0.2))\n",
    "model.add(Dense(units=1,kernel_initializer='glorot_uniform',activation='sigmoid'))"
   ]
  },
  {
   "cell_type": "code",
   "execution_count": 27,
   "metadata": {},
   "outputs": [
    {
     "name": "stdout",
     "output_type": "stream",
     "text": [
      "_________________________________________________________________\n",
      "Layer (type)                 Output Shape              Param #   \n",
      "=================================================================\n",
      "dense_1 (Dense)              (None, 10)                120       \n",
      "_________________________________________________________________\n",
      "dropout_1 (Dropout)          (None, 10)                0         \n",
      "_________________________________________________________________\n",
      "dense_2 (Dense)              (None, 20)                220       \n",
      "_________________________________________________________________\n",
      "dense_3 (Dense)              (None, 20)                420       \n",
      "_________________________________________________________________\n",
      "dropout_2 (Dropout)          (None, 20)                0         \n",
      "_________________________________________________________________\n",
      "dense_4 (Dense)              (None, 15)                315       \n",
      "_________________________________________________________________\n",
      "dropout_3 (Dropout)          (None, 15)                0         \n",
      "_________________________________________________________________\n",
      "dense_5 (Dense)              (None, 1)                 16        \n",
      "=================================================================\n",
      "Total params: 1,091\n",
      "Trainable params: 1,091\n",
      "Non-trainable params: 0\n",
      "_________________________________________________________________\n"
     ]
    }
   ],
   "source": [
    "model.summary()"
   ]
  },
  {
   "cell_type": "code",
   "execution_count": 28,
   "metadata": {},
   "outputs": [],
   "source": [
    "model.compile(optimizer='adam',loss='binary_crossentropy',metrics=['accuracy'])"
   ]
  },
  {
   "cell_type": "code",
   "execution_count": 29,
   "metadata": {},
   "outputs": [
    {
     "name": "stdout",
     "output_type": "stream",
     "text": [
      "WARNING:tensorflow:From C:\\Users\\Vaibhav\\Anaconda3\\lib\\site-packages\\tensorflow\\python\\ops\\math_ops.py:3066: to_int32 (from tensorflow.python.ops.math_ops) is deprecated and will be removed in a future version.\n",
      "Instructions for updating:\n",
      "Use tf.cast instead.\n"
     ]
    },
    {
     "name": "stderr",
     "output_type": "stream",
     "text": [
      "C:\\Users\\Vaibhav\\Anaconda3\\lib\\site-packages\\ipykernel_launcher.py:1: UserWarning: The `nb_epoch` argument in `fit` has been renamed `epochs`.\n",
      "  \"\"\"Entry point for launching an IPython kernel.\n"
     ]
    },
    {
     "name": "stdout",
     "output_type": "stream",
     "text": [
      "Train on 5359 samples, validate on 2641 samples\n",
      "Epoch 1/100\n",
      "5359/5359 [==============================] - 5s 925us/step - loss: 0.5870 - acc: 0.7498 - val_loss: 0.5026 - val_acc: 0.7955\n",
      "Epoch 2/100\n",
      "5359/5359 [==============================] - 3s 533us/step - loss: 0.5054 - acc: 0.7940 - val_loss: 0.4772 - val_acc: 0.7959\n",
      "Epoch 3/100\n",
      "5359/5359 [==============================] - 3s 521us/step - loss: 0.4894 - acc: 0.7964 - val_loss: 0.4631 - val_acc: 0.7986\n",
      "Epoch 4/100\n",
      "5359/5359 [==============================] - 3s 570us/step - loss: 0.4771 - acc: 0.7975 - val_loss: 0.4542 - val_acc: 0.8008\n",
      "Epoch 5/100\n",
      "5359/5359 [==============================] - 3s 480us/step - loss: 0.4653 - acc: 0.8009 - val_loss: 0.4443 - val_acc: 0.8035\n",
      "Epoch 6/100\n",
      "5359/5359 [==============================] - 3s 504us/step - loss: 0.4606 - acc: 0.8005 - val_loss: 0.4404 - val_acc: 0.8073\n",
      "Epoch 7/100\n",
      "5359/5359 [==============================] - 4s 725us/step - loss: 0.4503 - acc: 0.8056 - val_loss: 0.4366 - val_acc: 0.8095\n",
      "Epoch 8/100\n",
      "5359/5359 [==============================] - 4s 761us/step - loss: 0.4479 - acc: 0.8093 - val_loss: 0.4337 - val_acc: 0.8103\n",
      "Epoch 9/100\n",
      "5359/5359 [==============================] - 4s 712us/step - loss: 0.4426 - acc: 0.8095 - val_loss: 0.4343 - val_acc: 0.8073\n",
      "Epoch 10/100\n",
      "5359/5359 [==============================] - 4s 714us/step - loss: 0.4413 - acc: 0.8097 - val_loss: 0.4370 - val_acc: 0.8126\n",
      "Epoch 11/100\n",
      "5359/5359 [==============================] - 4s 706us/step - loss: 0.4375 - acc: 0.8140 - val_loss: 0.4333 - val_acc: 0.8167\n",
      "Epoch 12/100\n",
      "5359/5359 [==============================] - 3s 529us/step - loss: 0.4317 - acc: 0.8141 - val_loss: 0.4303 - val_acc: 0.8190\n",
      "Epoch 13/100\n",
      "5359/5359 [==============================] - 3s 606us/step - loss: 0.4317 - acc: 0.8076 - val_loss: 0.4288 - val_acc: 0.8118\n",
      "Epoch 14/100\n",
      "5359/5359 [==============================] - 4s 731us/step - loss: 0.4299 - acc: 0.8136 - val_loss: 0.4275 - val_acc: 0.8186\n",
      "Epoch 15/100\n",
      "5359/5359 [==============================] - 4s 714us/step - loss: 0.4292 - acc: 0.8143 - val_loss: 0.4292 - val_acc: 0.8198\n",
      "Epoch 16/100\n",
      "5359/5359 [==============================] - 4s 701us/step - loss: 0.4257 - acc: 0.8201 - val_loss: 0.4241 - val_acc: 0.8167\n",
      "Epoch 17/100\n",
      "5359/5359 [==============================] - 4s 696us/step - loss: 0.4217 - acc: 0.8212 - val_loss: 0.4137 - val_acc: 0.8205\n",
      "Epoch 18/100\n",
      "5359/5359 [==============================] - 4s 707us/step - loss: 0.4193 - acc: 0.8285 - val_loss: 0.4091 - val_acc: 0.8338\n",
      "Epoch 19/100\n",
      "5359/5359 [==============================] - 4s 682us/step - loss: 0.4117 - acc: 0.8240 - val_loss: 0.4017 - val_acc: 0.8364\n",
      "Epoch 20/100\n",
      "5359/5359 [==============================] - 4s 691us/step - loss: 0.4091 - acc: 0.8296 - val_loss: 0.3980 - val_acc: 0.8391\n",
      "Epoch 21/100\n",
      "5359/5359 [==============================] - 4s 692us/step - loss: 0.4137 - acc: 0.8246 - val_loss: 0.3988 - val_acc: 0.8342\n",
      "Epoch 22/100\n",
      "5359/5359 [==============================] - 4s 696us/step - loss: 0.4105 - acc: 0.8294 - val_loss: 0.3943 - val_acc: 0.8304\n",
      "Epoch 23/100\n",
      "5359/5359 [==============================] - 4s 686us/step - loss: 0.4023 - acc: 0.8358 - val_loss: 0.3927 - val_acc: 0.8429\n",
      "Epoch 24/100\n",
      "5359/5359 [==============================] - 3s 651us/step - loss: 0.3973 - acc: 0.8377 - val_loss: 0.3826 - val_acc: 0.8444\n",
      "Epoch 25/100\n",
      "5359/5359 [==============================] - 3s 515us/step - loss: 0.4041 - acc: 0.8328 - val_loss: 0.3896 - val_acc: 0.8349\n",
      "Epoch 26/100\n",
      "5359/5359 [==============================] - 4s 801us/step - loss: 0.3907 - acc: 0.8397 - val_loss: 0.3793 - val_acc: 0.8478\n",
      "Epoch 27/100\n",
      "5359/5359 [==============================] - 4s 703us/step - loss: 0.3995 - acc: 0.8360 - val_loss: 0.3910 - val_acc: 0.8376\n",
      "Epoch 28/100\n",
      "5359/5359 [==============================] - 2s 409us/step - loss: 0.3953 - acc: 0.8377 - val_loss: 0.3799 - val_acc: 0.8466\n",
      "Epoch 29/100\n",
      "5359/5359 [==============================] - 3s 493us/step - loss: 0.3900 - acc: 0.8375 - val_loss: 0.3757 - val_acc: 0.8429\n",
      "Epoch 30/100\n",
      "5359/5359 [==============================] - 3s 483us/step - loss: 0.3835 - acc: 0.8433 - val_loss: 0.3873 - val_acc: 0.8383\n",
      "Epoch 31/100\n",
      "5359/5359 [==============================] - 3s 503us/step - loss: 0.3877 - acc: 0.8408 - val_loss: 0.3738 - val_acc: 0.8459\n",
      "Epoch 32/100\n",
      "5359/5359 [==============================] - 4s 708us/step - loss: 0.3829 - acc: 0.8416 - val_loss: 0.3735 - val_acc: 0.8421\n",
      "Epoch 33/100\n",
      "5359/5359 [==============================] - 4s 700us/step - loss: 0.3912 - acc: 0.8431 - val_loss: 0.3806 - val_acc: 0.8436\n",
      "Epoch 34/100\n",
      "5359/5359 [==============================] - 4s 691us/step - loss: 0.3814 - acc: 0.8459 - val_loss: 0.3691 - val_acc: 0.8504\n",
      "Epoch 35/100\n",
      "5359/5359 [==============================] - 4s 693us/step - loss: 0.3888 - acc: 0.8406 - val_loss: 0.3792 - val_acc: 0.8448\n",
      "Epoch 36/100\n",
      "5359/5359 [==============================] - 4s 697us/step - loss: 0.3863 - acc: 0.8401 - val_loss: 0.3792 - val_acc: 0.8436\n",
      "Epoch 37/100\n",
      "5359/5359 [==============================] - 4s 687us/step - loss: 0.3852 - acc: 0.8421 - val_loss: 0.3696 - val_acc: 0.8478\n",
      "Epoch 38/100\n",
      "5359/5359 [==============================] - 4s 695us/step - loss: 0.3865 - acc: 0.8427 - val_loss: 0.3779 - val_acc: 0.8364\n",
      "Epoch 39/100\n",
      "5359/5359 [==============================] - 4s 692us/step - loss: 0.3884 - acc: 0.8390 - val_loss: 0.3764 - val_acc: 0.8440\n",
      "Epoch 40/100\n",
      "5359/5359 [==============================] - 4s 690us/step - loss: 0.3799 - acc: 0.8447 - val_loss: 0.3741 - val_acc: 0.8455\n",
      "Epoch 41/100\n",
      "5359/5359 [==============================] - 4s 691us/step - loss: 0.3775 - acc: 0.8496 - val_loss: 0.3792 - val_acc: 0.8398\n",
      "Epoch 42/100\n",
      "5359/5359 [==============================] - 4s 692us/step - loss: 0.3850 - acc: 0.8449 - val_loss: 0.3751 - val_acc: 0.8463\n",
      "Epoch 43/100\n",
      "5359/5359 [==============================] - 4s 692us/step - loss: 0.3886 - acc: 0.8427 - val_loss: 0.3750 - val_acc: 0.8440\n",
      "Epoch 44/100\n",
      "5359/5359 [==============================] - 4s 692us/step - loss: 0.3772 - acc: 0.8451 - val_loss: 0.3742 - val_acc: 0.8459\n",
      "Epoch 45/100\n",
      "5359/5359 [==============================] - 4s 688us/step - loss: 0.3797 - acc: 0.8425 - val_loss: 0.3821 - val_acc: 0.8413\n",
      "Epoch 46/100\n",
      "5359/5359 [==============================] - 4s 736us/step - loss: 0.3792 - acc: 0.8442 - val_loss: 0.3784 - val_acc: 0.8368\n",
      "Epoch 47/100\n",
      "5359/5359 [==============================] - 3s 647us/step - loss: 0.3803 - acc: 0.8431 - val_loss: 0.3779 - val_acc: 0.8387\n",
      "Epoch 48/100\n",
      "5359/5359 [==============================] - 4s 691us/step - loss: 0.3793 - acc: 0.8431 - val_loss: 0.3747 - val_acc: 0.8372\n",
      "Epoch 49/100\n",
      "5359/5359 [==============================] - 4s 661us/step - loss: 0.3797 - acc: 0.8433 - val_loss: 0.3740 - val_acc: 0.8451\n",
      "Epoch 50/100\n",
      "5359/5359 [==============================] - 4s 689us/step - loss: 0.3782 - acc: 0.8449 - val_loss: 0.3776 - val_acc: 0.8330\n",
      "Epoch 51/100\n",
      "5359/5359 [==============================] - 4s 690us/step - loss: 0.3807 - acc: 0.8414 - val_loss: 0.3731 - val_acc: 0.8451\n",
      "Epoch 52/100\n",
      "5359/5359 [==============================] - 4s 677us/step - loss: 0.3769 - acc: 0.8410 - val_loss: 0.3695 - val_acc: 0.8425\n",
      "Epoch 53/100\n",
      "5359/5359 [==============================] - 4s 699us/step - loss: 0.3764 - acc: 0.8397 - val_loss: 0.3778 - val_acc: 0.8429\n",
      "Epoch 54/100\n",
      "5359/5359 [==============================] - 4s 703us/step - loss: 0.3812 - acc: 0.8423 - val_loss: 0.3771 - val_acc: 0.8406\n",
      "Epoch 55/100\n",
      "5359/5359 [==============================] - 4s 694us/step - loss: 0.3745 - acc: 0.8421 - val_loss: 0.3802 - val_acc: 0.8368\n",
      "Epoch 56/100\n",
      "5359/5359 [==============================] - 4s 697us/step - loss: 0.3795 - acc: 0.8425 - val_loss: 0.3815 - val_acc: 0.8413\n",
      "Epoch 57/100\n",
      "5359/5359 [==============================] - 3s 621us/step - loss: 0.3789 - acc: 0.8423 - val_loss: 0.3761 - val_acc: 0.8429\n",
      "Epoch 58/100\n",
      "5359/5359 [==============================] - 4s 711us/step - loss: 0.3757 - acc: 0.8429 - val_loss: 0.3680 - val_acc: 0.8497\n",
      "Epoch 59/100\n",
      "5359/5359 [==============================] - 4s 703us/step - loss: 0.3838 - acc: 0.8429 - val_loss: 0.3776 - val_acc: 0.8429\n",
      "Epoch 60/100\n"
     ]
    },
    {
     "name": "stdout",
     "output_type": "stream",
     "text": [
      "5359/5359 [==============================] - 4s 724us/step - loss: 0.3791 - acc: 0.8395 - val_loss: 0.3752 - val_acc: 0.8417\n",
      "Epoch 61/100\n",
      "5359/5359 [==============================] - 4s 763us/step - loss: 0.3748 - acc: 0.8412 - val_loss: 0.3795 - val_acc: 0.8353\n",
      "Epoch 62/100\n",
      "5359/5359 [==============================] - 3s 499us/step - loss: 0.3809 - acc: 0.8391 - val_loss: 0.3844 - val_acc: 0.8391\n",
      "Epoch 63/100\n",
      "5359/5359 [==============================] - 3s 502us/step - loss: 0.3803 - acc: 0.8408 - val_loss: 0.3794 - val_acc: 0.8421\n",
      "Epoch 64/100\n",
      "5359/5359 [==============================] - 3s 501us/step - loss: 0.3740 - acc: 0.8431 - val_loss: 0.3802 - val_acc: 0.8451\n",
      "Epoch 65/100\n",
      "5359/5359 [==============================] - 3s 507us/step - loss: 0.3747 - acc: 0.8410 - val_loss: 0.3750 - val_acc: 0.8395\n",
      "Epoch 66/100\n",
      "5359/5359 [==============================] - 3s 648us/step - loss: 0.3724 - acc: 0.8483 - val_loss: 0.3768 - val_acc: 0.8398\n",
      "Epoch 67/100\n",
      "5359/5359 [==============================] - 4s 771us/step - loss: 0.3777 - acc: 0.8429 - val_loss: 0.3708 - val_acc: 0.8497\n",
      "Epoch 68/100\n",
      "5359/5359 [==============================] - 4s 790us/step - loss: 0.3758 - acc: 0.8408 - val_loss: 0.3781 - val_acc: 0.8402\n",
      "Epoch 69/100\n",
      "5359/5359 [==============================] - 4s 726us/step - loss: 0.3750 - acc: 0.8446 - val_loss: 0.3837 - val_acc: 0.8368\n",
      "Epoch 70/100\n",
      "5359/5359 [==============================] - 3s 541us/step - loss: 0.3746 - acc: 0.8468 - val_loss: 0.3765 - val_acc: 0.8440\n",
      "Epoch 71/100\n",
      "5359/5359 [==============================] - 4s 730us/step - loss: 0.3730 - acc: 0.8472 - val_loss: 0.3784 - val_acc: 0.8417\n",
      "Epoch 72/100\n",
      "5359/5359 [==============================] - 4s 657us/step - loss: 0.3721 - acc: 0.8446 - val_loss: 0.3662 - val_acc: 0.8501\n",
      "Epoch 73/100\n",
      "5359/5359 [==============================] - 4s 673us/step - loss: 0.3788 - acc: 0.8436 - val_loss: 0.3708 - val_acc: 0.8470\n",
      "Epoch 74/100\n",
      "5359/5359 [==============================] - 5s 912us/step - loss: 0.3718 - acc: 0.8468 - val_loss: 0.3715 - val_acc: 0.8497\n",
      "Epoch 75/100\n",
      "5359/5359 [==============================] - 4s 754us/step - loss: 0.3668 - acc: 0.8492 - val_loss: 0.3742 - val_acc: 0.8417\n",
      "Epoch 76/100\n",
      "5359/5359 [==============================] - 4s 710us/step - loss: 0.3790 - acc: 0.8436 - val_loss: 0.3775 - val_acc: 0.8463\n",
      "Epoch 77/100\n",
      "5359/5359 [==============================] - 4s 701us/step - loss: 0.3780 - acc: 0.8382 - val_loss: 0.3708 - val_acc: 0.8512\n",
      "Epoch 78/100\n",
      "5359/5359 [==============================] - 4s 692us/step - loss: 0.3693 - acc: 0.8436 - val_loss: 0.3700 - val_acc: 0.8516\n",
      "Epoch 79/100\n",
      "5359/5359 [==============================] - 4s 696us/step - loss: 0.3774 - acc: 0.8423 - val_loss: 0.3669 - val_acc: 0.8527\n",
      "Epoch 80/100\n",
      "5359/5359 [==============================] - 4s 709us/step - loss: 0.3744 - acc: 0.8483 - val_loss: 0.3698 - val_acc: 0.8501\n",
      "Epoch 81/100\n",
      "5359/5359 [==============================] - 4s 695us/step - loss: 0.3726 - acc: 0.8500 - val_loss: 0.3737 - val_acc: 0.8395\n",
      "Epoch 82/100\n",
      "5359/5359 [==============================] - 4s 694us/step - loss: 0.3706 - acc: 0.8526 - val_loss: 0.3760 - val_acc: 0.8440\n",
      "Epoch 83/100\n",
      "5359/5359 [==============================] - 4s 690us/step - loss: 0.3708 - acc: 0.8434 - val_loss: 0.3703 - val_acc: 0.8504\n",
      "Epoch 84/100\n",
      "5359/5359 [==============================] - 4s 693us/step - loss: 0.3740 - acc: 0.8481 - val_loss: 0.3698 - val_acc: 0.8501\n",
      "Epoch 85/100\n",
      "5359/5359 [==============================] - 4s 705us/step - loss: 0.3728 - acc: 0.8451 - val_loss: 0.3736 - val_acc: 0.8478\n",
      "Epoch 86/100\n",
      "5359/5359 [==============================] - 4s 670us/step - loss: 0.3710 - acc: 0.8446 - val_loss: 0.3668 - val_acc: 0.8542\n",
      "Epoch 87/100\n",
      "5359/5359 [==============================] - 4s 690us/step - loss: 0.3750 - acc: 0.8446 - val_loss: 0.3773 - val_acc: 0.8489\n",
      "Epoch 88/100\n",
      "5359/5359 [==============================] - 4s 699us/step - loss: 0.3724 - acc: 0.8470 - val_loss: 0.3724 - val_acc: 0.8440\n",
      "Epoch 89/100\n",
      "5359/5359 [==============================] - 4s 697us/step - loss: 0.3651 - acc: 0.8479 - val_loss: 0.3682 - val_acc: 0.8508\n",
      "Epoch 90/100\n",
      "5359/5359 [==============================] - 4s 699us/step - loss: 0.3753 - acc: 0.8492 - val_loss: 0.3727 - val_acc: 0.8485\n",
      "Epoch 91/100\n",
      "5359/5359 [==============================] - 4s 695us/step - loss: 0.3716 - acc: 0.8470 - val_loss: 0.3705 - val_acc: 0.8489\n",
      "Epoch 92/100\n",
      "5359/5359 [==============================] - 4s 692us/step - loss: 0.3673 - acc: 0.8459 - val_loss: 0.3744 - val_acc: 0.8470\n",
      "Epoch 93/100\n",
      "5359/5359 [==============================] - 4s 691us/step - loss: 0.3609 - acc: 0.8503 - val_loss: 0.3649 - val_acc: 0.8531\n",
      "Epoch 94/100\n",
      "5359/5359 [==============================] - 4s 695us/step - loss: 0.3717 - acc: 0.8446 - val_loss: 0.3779 - val_acc: 0.8455\n",
      "Epoch 95/100\n",
      "5359/5359 [==============================] - 4s 693us/step - loss: 0.3657 - acc: 0.8470 - val_loss: 0.3740 - val_acc: 0.8508\n",
      "Epoch 96/100\n",
      "5359/5359 [==============================] - 4s 696us/step - loss: 0.3771 - acc: 0.8479 - val_loss: 0.3750 - val_acc: 0.8459\n",
      "Epoch 97/100\n",
      "5359/5359 [==============================] - 4s 692us/step - loss: 0.3693 - acc: 0.8438 - val_loss: 0.3739 - val_acc: 0.8474\n",
      "Epoch 98/100\n",
      "5359/5359 [==============================] - 4s 693us/step - loss: 0.3705 - acc: 0.8466 - val_loss: 0.3752 - val_acc: 0.8470\n",
      "Epoch 99/100\n",
      "5359/5359 [==============================] - 4s 694us/step - loss: 0.3647 - acc: 0.8475 - val_loss: 0.3731 - val_acc: 0.8512\n",
      "Epoch 100/100\n",
      "5359/5359 [==============================] - 4s 689us/step - loss: 0.3754 - acc: 0.8433 - val_loss: 0.3656 - val_acc: 0.8516\n"
     ]
    }
   ],
   "source": [
    "history=model.fit(X_train,y_train,validation_split=0.33,batch_size=10,nb_epoch=100)"
   ]
  },
  {
   "cell_type": "code",
   "execution_count": 30,
   "metadata": {},
   "outputs": [],
   "source": [
    "# y_pred=model.predict(X_test)\n",
    "# y_pred=(y_pred>0.5)"
   ]
  },
  {
   "cell_type": "code",
   "execution_count": 31,
   "metadata": {},
   "outputs": [],
   "source": [
    "# from sklearn.metrics import confusion_matrix\n",
    "# cm=confusion_matrix(y_test,y_pred)"
   ]
  },
  {
   "cell_type": "code",
   "execution_count": 32,
   "metadata": {},
   "outputs": [
    {
     "data": {
      "text/plain": [
       "array([[1551,   44],\n",
       "       [ 237,  168]], dtype=int64)"
      ]
     },
     "execution_count": 32,
     "metadata": {},
     "output_type": "execute_result"
    }
   ],
   "source": [
    "# cm"
   ]
  },
  {
   "cell_type": "code",
   "execution_count": 33,
   "metadata": {},
   "outputs": [],
   "source": [
    "# from sklearn.metrics import accuracy_score\n",
    "# score=accuracy_score(y_pred,y_test)"
   ]
  },
  {
   "cell_type": "code",
   "execution_count": 34,
   "metadata": {},
   "outputs": [
    {
     "data": {
      "text/plain": [
       "0.8595"
      ]
     },
     "execution_count": 34,
     "metadata": {},
     "output_type": "execute_result"
    }
   ],
   "source": [
    "# score"
   ]
  },
  {
   "cell_type": "code",
   "execution_count": null,
   "metadata": {},
   "outputs": [],
   "source": []
  },
  {
   "cell_type": "code",
   "execution_count": null,
   "metadata": {},
   "outputs": [],
   "source": []
  },
  {
   "cell_type": "code",
   "execution_count": null,
   "metadata": {},
   "outputs": [],
   "source": []
  },
  {
   "cell_type": "code",
   "execution_count": 22,
   "metadata": {},
   "outputs": [
    {
     "name": "stderr",
     "output_type": "stream",
     "text": [
      "Using TensorFlow backend.\n"
     ]
    }
   ],
   "source": [
    "#Hyperparameter\n",
    "from keras.wrappers.scikit_learn import KerasClassifier\n",
    "from sklearn.model_selection import GridSearchCV"
   ]
  },
  {
   "cell_type": "code",
   "execution_count": 23,
   "metadata": {},
   "outputs": [],
   "source": [
    "from keras.models import Sequential\n",
    "from keras.layers import Dense,Activation,Embedding,Flatten,LeakyReLU,BatchNormalization,Dropout\n",
    "from keras.activations import relu,sigmoid"
   ]
  },
  {
   "cell_type": "code",
   "execution_count": 24,
   "metadata": {},
   "outputs": [],
   "source": [
    "def create_model(layers,activation):\n",
    "    model=Sequential()\n",
    "    for i,nodes in enumerate(layers):\n",
    "        if(i==0):\n",
    "            model.add(Dense(nodes,input_dim=X_train.shape[1]))\n",
    "            model.add(Activation(activation))\n",
    "            model.add(Dropout(0.3))\n",
    "        else:\n",
    "            model.add(Dense(nodes))\n",
    "            model.add(Activation(activation))\n",
    "            model.add(Dropout(0.3))\n",
    "        \n",
    "    model.add(Dense(units=1,kernel_initializer=\"glorot_uniform\",activation='sigmoid'))\n",
    "    model.compile(optimizer='adam',loss='binary_crossentropy',metrics=['accuracy'])\n",
    "    return model\n"
   ]
  },
  {
   "cell_type": "code",
   "execution_count": 25,
   "metadata": {},
   "outputs": [],
   "source": [
    "model=KerasClassifier(build_fn=create_model,verbose=0)"
   ]
  },
  {
   "cell_type": "code",
   "execution_count": 26,
   "metadata": {},
   "outputs": [],
   "source": [
    "layers=[[20],[40,20],[45,30,15]]\n",
    "activations=['sigmoid','relu']"
   ]
  },
  {
   "cell_type": "code",
   "execution_count": 27,
   "metadata": {},
   "outputs": [],
   "source": [
    "param_grid=dict(layers=layers,activation=activations,batch_size=[128,256],epochs=[30])\n",
    "grid=GridSearchCV(estimator=model,param_grid=param_grid,cv=5)"
   ]
  },
  {
   "cell_type": "code",
   "execution_count": 29,
   "metadata": {},
   "outputs": [
    {
     "name": "stdout",
     "output_type": "stream",
     "text": [
      "WARNING:tensorflow:From C:\\Users\\Vaibhav\\Anaconda3\\lib\\site-packages\\tensorflow\\python\\framework\\op_def_library.py:263: colocate_with (from tensorflow.python.framework.ops) is deprecated and will be removed in a future version.\n",
      "Instructions for updating:\n",
      "Colocations handled automatically by placer.\n",
      "WARNING:tensorflow:From C:\\Users\\Vaibhav\\Anaconda3\\lib\\site-packages\\keras\\backend\\tensorflow_backend.py:3445: calling dropout (from tensorflow.python.ops.nn_ops) with keep_prob is deprecated and will be removed in a future version.\n",
      "Instructions for updating:\n",
      "Please use `rate` instead of `keep_prob`. Rate should be set to `rate = 1 - keep_prob`.\n",
      "WARNING:tensorflow:From C:\\Users\\Vaibhav\\Anaconda3\\lib\\site-packages\\tensorflow\\python\\ops\\math_ops.py:3066: to_int32 (from tensorflow.python.ops.math_ops) is deprecated and will be removed in a future version.\n",
      "Instructions for updating:\n",
      "Use tf.cast instead.\n"
     ]
    }
   ],
   "source": [
    "grid_result=grid.fit(X_train,y_train)"
   ]
  },
  {
   "cell_type": "code",
   "execution_count": 30,
   "metadata": {},
   "outputs": [
    {
     "name": "stdout",
     "output_type": "stream",
     "text": [
      "0.85525 {'activation': 'relu', 'batch_size': 128, 'epochs': 30, 'layers': [45, 30, 15]}\n"
     ]
    }
   ],
   "source": [
    "print(grid_result.best_score_,grid_result.best_params_)"
   ]
  },
  {
   "cell_type": "code",
   "execution_count": 32,
   "metadata": {},
   "outputs": [],
   "source": [
    "y_pred=grid.predict(X_test)\n",
    "y_pred=(y_pred>0.5)"
   ]
  },
  {
   "cell_type": "code",
   "execution_count": 33,
   "metadata": {},
   "outputs": [],
   "source": [
    "from sklearn.metrics import confusion_matrix\n",
    "cm=confusion_matrix(y_test,y_pred)"
   ]
  },
  {
   "cell_type": "code",
   "execution_count": 34,
   "metadata": {},
   "outputs": [
    {
     "data": {
      "text/plain": [
       "array([[1522,   73],\n",
       "       [ 204,  201]], dtype=int64)"
      ]
     },
     "execution_count": 34,
     "metadata": {},
     "output_type": "execute_result"
    }
   ],
   "source": [
    "cm"
   ]
  },
  {
   "cell_type": "code",
   "execution_count": 35,
   "metadata": {},
   "outputs": [],
   "source": [
    "from sklearn.metrics import accuracy_score\n",
    "score=accuracy_score(y_pred,y_test)"
   ]
  },
  {
   "cell_type": "code",
   "execution_count": 36,
   "metadata": {},
   "outputs": [
    {
     "data": {
      "text/plain": [
       "0.8615"
      ]
     },
     "execution_count": 36,
     "metadata": {},
     "output_type": "execute_result"
    }
   ],
   "source": [
    "score"
   ]
  },
  {
   "cell_type": "code",
   "execution_count": null,
   "metadata": {},
   "outputs": [],
   "source": []
  }
 ],
 "metadata": {
  "kernelspec": {
   "display_name": "Python 3",
   "language": "python",
   "name": "python3"
  },
  "language_info": {
   "codemirror_mode": {
    "name": "ipython",
    "version": 3
   },
   "file_extension": ".py",
   "mimetype": "text/x-python",
   "name": "python",
   "nbconvert_exporter": "python",
   "pygments_lexer": "ipython3",
   "version": "3.7.3"
  }
 },
 "nbformat": 4,
 "nbformat_minor": 2
}
