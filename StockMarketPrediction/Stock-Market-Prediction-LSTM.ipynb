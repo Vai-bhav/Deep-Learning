{
 "cells": [
  {
   "cell_type": "markdown",
   "metadata": {},
   "source": [
    "# Stock Market Prediction And Forecasting Using Stacked LSTM"
   ]
  },
  {
   "cell_type": "code",
   "execution_count": 4,
   "metadata": {},
   "outputs": [],
   "source": [
    "import pandas_datareader as pdr"
   ]
  },
  {
   "cell_type": "code",
   "execution_count": 5,
   "metadata": {},
   "outputs": [],
   "source": [
    "key='########################'"
   ]
  },
  {
   "cell_type": "code",
   "execution_count": 6,
   "metadata": {},
   "outputs": [],
   "source": [
    "df=pdr.get_data_tiingo('AAPL',api_key=key)"
   ]
  },
  {
   "cell_type": "code",
   "execution_count": 7,
   "metadata": {},
   "outputs": [],
   "source": [
    "df.to_csv('AAPL.csv')"
   ]
  },
  {
   "cell_type": "code",
   "execution_count": 8,
   "metadata": {},
   "outputs": [],
   "source": [
    "import pandas as pd"
   ]
  },
  {
   "cell_type": "code",
   "execution_count": 9,
   "metadata": {},
   "outputs": [],
   "source": [
    "df=pd.read_csv('AAPL.csv')"
   ]
  },
  {
   "cell_type": "code",
   "execution_count": 10,
   "metadata": {},
   "outputs": [
    {
     "data": {
      "text/html": [
       "<div>\n",
       "<style scoped>\n",
       "    .dataframe tbody tr th:only-of-type {\n",
       "        vertical-align: middle;\n",
       "    }\n",
       "\n",
       "    .dataframe tbody tr th {\n",
       "        vertical-align: top;\n",
       "    }\n",
       "\n",
       "    .dataframe thead th {\n",
       "        text-align: right;\n",
       "    }\n",
       "</style>\n",
       "<table border=\"1\" class=\"dataframe\">\n",
       "  <thead>\n",
       "    <tr style=\"text-align: right;\">\n",
       "      <th></th>\n",
       "      <th>symbol</th>\n",
       "      <th>date</th>\n",
       "      <th>adjClose</th>\n",
       "      <th>adjHigh</th>\n",
       "      <th>adjLow</th>\n",
       "      <th>adjOpen</th>\n",
       "      <th>adjVolume</th>\n",
       "      <th>close</th>\n",
       "      <th>divCash</th>\n",
       "      <th>high</th>\n",
       "      <th>low</th>\n",
       "      <th>open</th>\n",
       "      <th>splitFactor</th>\n",
       "      <th>volume</th>\n",
       "    </tr>\n",
       "  </thead>\n",
       "  <tbody>\n",
       "    <tr>\n",
       "      <th>0</th>\n",
       "      <td>AAPL</td>\n",
       "      <td>2015-07-13 00:00:00+00:00</td>\n",
       "      <td>115.798631</td>\n",
       "      <td>115.886175</td>\n",
       "      <td>114.563789</td>\n",
       "      <td>115.218071</td>\n",
       "      <td>41440538</td>\n",
       "      <td>125.66</td>\n",
       "      <td>0.0</td>\n",
       "      <td>125.755</td>\n",
       "      <td>124.32</td>\n",
       "      <td>125.03</td>\n",
       "      <td>1.0</td>\n",
       "      <td>41440538</td>\n",
       "    </tr>\n",
       "    <tr>\n",
       "      <th>1</th>\n",
       "      <td>AAPL</td>\n",
       "      <td>2015-07-14 00:00:00+00:00</td>\n",
       "      <td>115.752554</td>\n",
       "      <td>116.452912</td>\n",
       "      <td>115.227286</td>\n",
       "      <td>116.148810</td>\n",
       "      <td>31768139</td>\n",
       "      <td>125.61</td>\n",
       "      <td>0.0</td>\n",
       "      <td>126.370</td>\n",
       "      <td>125.04</td>\n",
       "      <td>126.04</td>\n",
       "      <td>1.0</td>\n",
       "      <td>31768139</td>\n",
       "    </tr>\n",
       "    <tr>\n",
       "      <th>2</th>\n",
       "      <td>AAPL</td>\n",
       "      <td>2015-07-15 00:00:00+00:00</td>\n",
       "      <td>116.867598</td>\n",
       "      <td>117.171700</td>\n",
       "      <td>115.724909</td>\n",
       "      <td>115.853922</td>\n",
       "      <td>33649200</td>\n",
       "      <td>126.82</td>\n",
       "      <td>0.0</td>\n",
       "      <td>127.150</td>\n",
       "      <td>125.58</td>\n",
       "      <td>125.72</td>\n",
       "      <td>1.0</td>\n",
       "      <td>33649200</td>\n",
       "    </tr>\n",
       "    <tr>\n",
       "      <th>3</th>\n",
       "      <td>AAPL</td>\n",
       "      <td>2015-07-16 00:00:00+00:00</td>\n",
       "      <td>118.424972</td>\n",
       "      <td>118.480264</td>\n",
       "      <td>117.356005</td>\n",
       "      <td>117.715399</td>\n",
       "      <td>36222447</td>\n",
       "      <td>128.51</td>\n",
       "      <td>0.0</td>\n",
       "      <td>128.570</td>\n",
       "      <td>127.35</td>\n",
       "      <td>127.74</td>\n",
       "      <td>1.0</td>\n",
       "      <td>36222447</td>\n",
       "    </tr>\n",
       "    <tr>\n",
       "      <th>4</th>\n",
       "      <td>AAPL</td>\n",
       "      <td>2015-07-17 00:00:00+00:00</td>\n",
       "      <td>119.447863</td>\n",
       "      <td>119.447863</td>\n",
       "      <td>118.240668</td>\n",
       "      <td>118.950241</td>\n",
       "      <td>46164710</td>\n",
       "      <td>129.62</td>\n",
       "      <td>0.0</td>\n",
       "      <td>129.620</td>\n",
       "      <td>128.31</td>\n",
       "      <td>129.08</td>\n",
       "      <td>1.0</td>\n",
       "      <td>46164710</td>\n",
       "    </tr>\n",
       "  </tbody>\n",
       "</table>\n",
       "</div>"
      ],
      "text/plain": [
       "  symbol                       date    adjClose     adjHigh      adjLow  \\\n",
       "0   AAPL  2015-07-13 00:00:00+00:00  115.798631  115.886175  114.563789   \n",
       "1   AAPL  2015-07-14 00:00:00+00:00  115.752554  116.452912  115.227286   \n",
       "2   AAPL  2015-07-15 00:00:00+00:00  116.867598  117.171700  115.724909   \n",
       "3   AAPL  2015-07-16 00:00:00+00:00  118.424972  118.480264  117.356005   \n",
       "4   AAPL  2015-07-17 00:00:00+00:00  119.447863  119.447863  118.240668   \n",
       "\n",
       "      adjOpen  adjVolume   close  divCash     high     low    open  \\\n",
       "0  115.218071   41440538  125.66      0.0  125.755  124.32  125.03   \n",
       "1  116.148810   31768139  125.61      0.0  126.370  125.04  126.04   \n",
       "2  115.853922   33649200  126.82      0.0  127.150  125.58  125.72   \n",
       "3  117.715399   36222447  128.51      0.0  128.570  127.35  127.74   \n",
       "4  118.950241   46164710  129.62      0.0  129.620  128.31  129.08   \n",
       "\n",
       "   splitFactor    volume  \n",
       "0          1.0  41440538  \n",
       "1          1.0  31768139  \n",
       "2          1.0  33649200  \n",
       "3          1.0  36222447  \n",
       "4          1.0  46164710  "
      ]
     },
     "execution_count": 10,
     "metadata": {},
     "output_type": "execute_result"
    }
   ],
   "source": [
    "df.head()"
   ]
  },
  {
   "cell_type": "code",
   "execution_count": 11,
   "metadata": {},
   "outputs": [
    {
     "data": {
      "text/html": [
       "<div>\n",
       "<style scoped>\n",
       "    .dataframe tbody tr th:only-of-type {\n",
       "        vertical-align: middle;\n",
       "    }\n",
       "\n",
       "    .dataframe tbody tr th {\n",
       "        vertical-align: top;\n",
       "    }\n",
       "\n",
       "    .dataframe thead th {\n",
       "        text-align: right;\n",
       "    }\n",
       "</style>\n",
       "<table border=\"1\" class=\"dataframe\">\n",
       "  <thead>\n",
       "    <tr style=\"text-align: right;\">\n",
       "      <th></th>\n",
       "      <th>symbol</th>\n",
       "      <th>date</th>\n",
       "      <th>adjClose</th>\n",
       "      <th>adjHigh</th>\n",
       "      <th>adjLow</th>\n",
       "      <th>adjOpen</th>\n",
       "      <th>adjVolume</th>\n",
       "      <th>close</th>\n",
       "      <th>divCash</th>\n",
       "      <th>high</th>\n",
       "      <th>low</th>\n",
       "      <th>open</th>\n",
       "      <th>splitFactor</th>\n",
       "      <th>volume</th>\n",
       "    </tr>\n",
       "  </thead>\n",
       "  <tbody>\n",
       "    <tr>\n",
       "      <th>1253</th>\n",
       "      <td>AAPL</td>\n",
       "      <td>2020-07-02 00:00:00+00:00</td>\n",
       "      <td>364.11</td>\n",
       "      <td>370.47</td>\n",
       "      <td>363.64</td>\n",
       "      <td>367.85</td>\n",
       "      <td>28814500</td>\n",
       "      <td>364.11</td>\n",
       "      <td>0.0</td>\n",
       "      <td>370.47</td>\n",
       "      <td>363.64</td>\n",
       "      <td>367.85</td>\n",
       "      <td>1.0</td>\n",
       "      <td>28814500</td>\n",
       "    </tr>\n",
       "    <tr>\n",
       "      <th>1254</th>\n",
       "      <td>AAPL</td>\n",
       "      <td>2020-07-06 00:00:00+00:00</td>\n",
       "      <td>373.85</td>\n",
       "      <td>375.78</td>\n",
       "      <td>369.87</td>\n",
       "      <td>370.00</td>\n",
       "      <td>29745900</td>\n",
       "      <td>373.85</td>\n",
       "      <td>0.0</td>\n",
       "      <td>375.78</td>\n",
       "      <td>369.87</td>\n",
       "      <td>370.00</td>\n",
       "      <td>1.0</td>\n",
       "      <td>29745900</td>\n",
       "    </tr>\n",
       "    <tr>\n",
       "      <th>1255</th>\n",
       "      <td>AAPL</td>\n",
       "      <td>2020-07-07 00:00:00+00:00</td>\n",
       "      <td>372.69</td>\n",
       "      <td>378.62</td>\n",
       "      <td>372.23</td>\n",
       "      <td>375.41</td>\n",
       "      <td>28207000</td>\n",
       "      <td>372.69</td>\n",
       "      <td>0.0</td>\n",
       "      <td>378.62</td>\n",
       "      <td>372.23</td>\n",
       "      <td>375.41</td>\n",
       "      <td>1.0</td>\n",
       "      <td>28207000</td>\n",
       "    </tr>\n",
       "    <tr>\n",
       "      <th>1256</th>\n",
       "      <td>AAPL</td>\n",
       "      <td>2020-07-08 00:00:00+00:00</td>\n",
       "      <td>381.37</td>\n",
       "      <td>381.50</td>\n",
       "      <td>376.36</td>\n",
       "      <td>376.72</td>\n",
       "      <td>29274500</td>\n",
       "      <td>381.37</td>\n",
       "      <td>0.0</td>\n",
       "      <td>381.50</td>\n",
       "      <td>376.36</td>\n",
       "      <td>376.72</td>\n",
       "      <td>1.0</td>\n",
       "      <td>29274500</td>\n",
       "    </tr>\n",
       "    <tr>\n",
       "      <th>1257</th>\n",
       "      <td>AAPL</td>\n",
       "      <td>2020-07-09 00:00:00+00:00</td>\n",
       "      <td>382.73</td>\n",
       "      <td>393.91</td>\n",
       "      <td>378.69</td>\n",
       "      <td>385.05</td>\n",
       "      <td>31420400</td>\n",
       "      <td>382.73</td>\n",
       "      <td>0.0</td>\n",
       "      <td>393.91</td>\n",
       "      <td>378.69</td>\n",
       "      <td>385.05</td>\n",
       "      <td>1.0</td>\n",
       "      <td>31420400</td>\n",
       "    </tr>\n",
       "  </tbody>\n",
       "</table>\n",
       "</div>"
      ],
      "text/plain": [
       "     symbol                       date  adjClose  adjHigh  adjLow  adjOpen  \\\n",
       "1253   AAPL  2020-07-02 00:00:00+00:00    364.11   370.47  363.64   367.85   \n",
       "1254   AAPL  2020-07-06 00:00:00+00:00    373.85   375.78  369.87   370.00   \n",
       "1255   AAPL  2020-07-07 00:00:00+00:00    372.69   378.62  372.23   375.41   \n",
       "1256   AAPL  2020-07-08 00:00:00+00:00    381.37   381.50  376.36   376.72   \n",
       "1257   AAPL  2020-07-09 00:00:00+00:00    382.73   393.91  378.69   385.05   \n",
       "\n",
       "      adjVolume   close  divCash    high     low    open  splitFactor  \\\n",
       "1253   28814500  364.11      0.0  370.47  363.64  367.85          1.0   \n",
       "1254   29745900  373.85      0.0  375.78  369.87  370.00          1.0   \n",
       "1255   28207000  372.69      0.0  378.62  372.23  375.41          1.0   \n",
       "1256   29274500  381.37      0.0  381.50  376.36  376.72          1.0   \n",
       "1257   31420400  382.73      0.0  393.91  378.69  385.05          1.0   \n",
       "\n",
       "        volume  \n",
       "1253  28814500  \n",
       "1254  29745900  \n",
       "1255  28207000  \n",
       "1256  29274500  \n",
       "1257  31420400  "
      ]
     },
     "execution_count": 11,
     "metadata": {},
     "output_type": "execute_result"
    }
   ],
   "source": [
    "df.tail()"
   ]
  },
  {
   "cell_type": "code",
   "execution_count": 12,
   "metadata": {},
   "outputs": [],
   "source": [
    "df1=df.reset_index()['close']"
   ]
  },
  {
   "cell_type": "code",
   "execution_count": 13,
   "metadata": {},
   "outputs": [
    {
     "data": {
      "text/plain": [
       "0    125.66\n",
       "1    125.61\n",
       "2    126.82\n",
       "3    128.51\n",
       "4    129.62\n",
       "Name: close, dtype: float64"
      ]
     },
     "execution_count": 13,
     "metadata": {},
     "output_type": "execute_result"
    }
   ],
   "source": [
    "df1.head()"
   ]
  },
  {
   "cell_type": "code",
   "execution_count": 14,
   "metadata": {},
   "outputs": [
    {
     "data": {
      "text/plain": [
       "(1258,)"
      ]
     },
     "execution_count": 14,
     "metadata": {},
     "output_type": "execute_result"
    }
   ],
   "source": [
    "df1.shape"
   ]
  },
  {
   "cell_type": "code",
   "execution_count": 16,
   "metadata": {},
   "outputs": [
    {
     "data": {
      "image/png": "[encoded data removed]",
      "text/plain": [
       "<Figure size 432x288 with 1 Axes>"
      ]
     },
     "metadata": {
      "needs_background": "light"
     },
     "output_type": "display_data"
    }
   ],
   "source": [
    "import matplotlib.pyplot as plt\n",
    "plt.plot(df1)\n",
    "plt.show()"
   ]
  },
  {
   "cell_type": "code",
   "execution_count": 17,
   "metadata": {},
   "outputs": [],
   "source": [
    "import numpy as np"
   ]
  },
  {
   "cell_type": "code",
   "execution_count": 19,
   "metadata": {},
   "outputs": [],
   "source": [
    "from sklearn.preprocessing import MinMaxScaler\n",
    "mms=MinMaxScaler(feature_range=(0,1))\n",
    "df1=mms.fit_transform(np.array(df1).reshape(-1,1))"
   ]
  },
  {
   "cell_type": "code",
   "execution_count": 20,
   "metadata": {},
   "outputs": [
    {
     "data": {
      "text/plain": [
       "array([[0.12079756],\n",
       "       [0.12062656],\n",
       "       [0.12476487],\n",
       "       ...,\n",
       "       [0.9656623 ],\n",
       "       [0.99534868],\n",
       "       [1.        ]])"
      ]
     },
     "execution_count": 20,
     "metadata": {},
     "output_type": "execute_result"
    }
   ],
   "source": [
    "df1"
   ]
  },
  {
   "cell_type": "markdown",
   "metadata": {},
   "source": [
    "**Splitting into training and test date**"
   ]
  },
  {
   "cell_type": "code",
   "execution_count": 23,
   "metadata": {},
   "outputs": [],
   "source": [
    "training_size=int(len(df1)*0.65)\n",
    "test_size=len(df1)-training_size\n",
    "train_data,test_data=df1[0:training_size,:],df1[training_size:len(df1),:1]"
   ]
  },
  {
   "cell_type": "code",
   "execution_count": 24,
   "metadata": {},
   "outputs": [
    {
     "data": {
      "text/plain": [
       "817"
      ]
     },
     "execution_count": 24,
     "metadata": {},
     "output_type": "execute_result"
    }
   ],
   "source": [
    "training_size"
   ]
  },
  {
   "cell_type": "code",
   "execution_count": 25,
   "metadata": {},
   "outputs": [
    {
     "data": {
      "text/plain": [
       "441"
      ]
     },
     "execution_count": 25,
     "metadata": {},
     "output_type": "execute_result"
    }
   ],
   "source": [
    "test_size"
   ]
  },
  {
   "cell_type": "code",
   "execution_count": 27,
   "metadata": {},
   "outputs": [],
   "source": [
    "import numpy as np"
   ]
  },
  {
   "cell_type": "code",
   "execution_count": 32,
   "metadata": {},
   "outputs": [],
   "source": [
    "def create_dataset(dataset,time_step=1):\n",
    "    dataX,dataY=[],[]\n",
    "    for i in range(len(dataset)-time_step-1):\n",
    "        a=dataset[i:(i+time_step),0]\n",
    "        dataX.append(a)\n",
    "        dataY.append(dataset[i+time_step,0])\n",
    "    return np.array(dataX),np.array(dataY)"
   ]
  },
  {
   "cell_type": "code",
   "execution_count": 33,
   "metadata": {},
   "outputs": [],
   "source": [
    "time_step=100\n",
    "X_train,y_train=create_dataset(train_data,time_step)\n",
    "X_test,y_test=create_dataset(test_data,time_step)"
   ]
  },
  {
   "cell_type": "code",
   "execution_count": 34,
   "metadata": {},
   "outputs": [
    {
     "data": {
      "text/plain": [
       "array([[0.12079756, 0.12062656, 0.12476487, ..., 0.09394986, 0.09562571,\n",
       "        0.09234242],\n",
       "       [0.12062656, 0.12476487, 0.13054482, ..., 0.09562571, 0.09234242,\n",
       "        0.08871712],\n",
       "       [0.12476487, 0.13054482, 0.13434112, ..., 0.09234242, 0.08871712,\n",
       "        0.08502343],\n",
       "       ...,\n",
       "       [0.34098293, 0.3360238 , 0.33451896, ..., 0.46037826, 0.46308013,\n",
       "        0.46827867],\n",
       "       [0.3360238 , 0.33451896, 0.32867061, ..., 0.46308013, 0.46827867,\n",
       "        0.47518725],\n",
       "       [0.33451896, 0.32867061, 0.33462157, ..., 0.46827867, 0.47518725,\n",
       "        0.4847293 ]])"
      ]
     },
     "execution_count": 34,
     "metadata": {},
     "output_type": "execute_result"
    }
   ],
   "source": [
    "X_train"
   ]
  },
  {
   "cell_type": "code",
   "execution_count": 35,
   "metadata": {},
   "outputs": [
    {
     "data": {
      "text/plain": [
       "(716, 100)"
      ]
     },
     "execution_count": 35,
     "metadata": {},
     "output_type": "execute_result"
    }
   ],
   "source": [
    "X_train.shape"
   ]
  },
  {
   "cell_type": "code",
   "execution_count": 36,
   "metadata": {},
   "outputs": [
    {
     "data": {
      "text/plain": [
       "(716,)"
      ]
     },
     "execution_count": 36,
     "metadata": {},
     "output_type": "execute_result"
    }
   ],
   "source": [
    "y_train.shape"
   ]
  },
  {
   "cell_type": "code",
   "execution_count": 37,
   "metadata": {},
   "outputs": [
    {
     "data": {
      "text/plain": [
       "(340, 100)"
      ]
     },
     "execution_count": 37,
     "metadata": {},
     "output_type": "execute_result"
    }
   ],
   "source": [
    "X_test.shape"
   ]
  },
  {
   "cell_type": "code",
   "execution_count": 38,
   "metadata": {},
   "outputs": [
    {
     "data": {
      "text/plain": [
       "(340,)"
      ]
     },
     "execution_count": 38,
     "metadata": {},
     "output_type": "execute_result"
    }
   ],
   "source": [
    "y_test.shape"
   ]
  },
  {
   "cell_type": "markdown",
   "metadata": {},
   "source": [
    "**Stacked LSTM**"
   ]
  },
  {
   "cell_type": "code",
   "execution_count": 39,
   "metadata": {},
   "outputs": [],
   "source": [
    "# reshape input to  [samples, time steps, features]  for LSTM\n",
    "X_train=X_train.reshape(X_train.shape[0],X_train.shape[1],1)\n",
    "X_test=X_test.reshape(X_test.shape[0],X_test.shape[1],1)"
   ]
  },
  {
   "cell_type": "code",
   "execution_count": 41,
   "metadata": {},
   "outputs": [],
   "source": [
    "from tensorflow.keras.models import Sequential\n",
    "from tensorflow.keras.layers import Dense,LSTM"
   ]
  },
  {
   "cell_type": "code",
   "execution_count": 45,
   "metadata": {},
   "outputs": [
    {
     "name": "stdout",
     "output_type": "stream",
     "text": [
      "WARNING:tensorflow:From C:\\Users\\Vaibhav\\Anaconda3\\lib\\site-packages\\tensorflow\\python\\keras\\utils\\losses_utils.py:170: to_float (from tensorflow.python.ops.math_ops) is deprecated and will be removed in a future version.\n",
      "Instructions for updating:\n",
      "Use tf.cast instead.\n"
     ]
    }
   ],
   "source": [
    "model=Sequential()\n",
    "model.add(LSTM(50,return_sequences=True,input_shape=(time_step,1)))\n",
    "model.add(LSTM(50,return_sequences=True))\n",
    "model.add(LSTM(50))\n",
    "model.add(Dense(1))\n",
    "model.compile(loss='mse',optimizer='adam')"
   ]
  },
  {
   "cell_type": "code",
   "execution_count": 46,
   "metadata": {},
   "outputs": [
    {
     "name": "stdout",
     "output_type": "stream",
     "text": [
      "_________________________________________________________________\n",
      "Layer (type)                 Output Shape              Param #   \n",
      "=================================================================\n",
      "lstm_3 (LSTM)                (None, 100, 50)           10400     \n",
      "_________________________________________________________________\n",
      "lstm_4 (LSTM)                (None, 100, 50)           20200     \n",
      "_________________________________________________________________\n",
      "lstm_5 (LSTM)                (None, 50)                20200     \n",
      "_________________________________________________________________\n",
      "dense_1 (Dense)              (None, 1)                 51        \n",
      "=================================================================\n",
      "Total params: 50,851\n",
      "Trainable params: 50,851\n",
      "Non-trainable params: 0\n",
      "_________________________________________________________________\n"
     ]
    }
   ],
   "source": [
    "model.summary()"
   ]
  },
  {
   "cell_type": "code",
   "execution_count": 47,
   "metadata": {},
   "outputs": [
    {
     "name": "stdout",
     "output_type": "stream",
     "text": [
      "Train on 716 samples, validate on 340 samples\n",
      "WARNING:tensorflow:From C:\\Users\\Vaibhav\\Anaconda3\\lib\\site-packages\\tensorflow\\python\\ops\\math_ops.py:3066: to_int32 (from tensorflow.python.ops.math_ops) is deprecated and will be removed in a future version.\n",
      "Instructions for updating:\n",
      "Use tf.cast instead.\n",
      "Epoch 1/100\n",
      "716/716 [==============================] - 17s 24ms/sample - loss: 0.0178 - val_loss: 0.0291\n",
      "Epoch 2/100\n",
      "716/716 [==============================] - 7s 9ms/sample - loss: 0.0032 - val_loss: 0.0038\n",
      "Epoch 3/100\n",
      "716/716 [==============================] - 6s 9ms/sample - loss: 7.1721e-04 - val_loss: 0.0048\n",
      "Epoch 4/100\n",
      "716/716 [==============================] - 7s 9ms/sample - loss: 4.5132e-04 - val_loss: 0.0028\n",
      "Epoch 5/100\n",
      "716/716 [==============================] - 7s 9ms/sample - loss: 4.1762e-04 - val_loss: 0.0026\n",
      "Epoch 6/100\n",
      "716/716 [==============================] - 7s 10ms/sample - loss: 3.8050e-04 - val_loss: 0.0026\n",
      "Epoch 7/100\n",
      "716/716 [==============================] - 6s 9ms/sample - loss: 3.7674e-04 - val_loss: 0.0025\n",
      "Epoch 8/100\n",
      "716/716 [==============================] - 7s 9ms/sample - loss: 3.6786e-04 - val_loss: 0.0025\n",
      "Epoch 9/100\n",
      "716/716 [==============================] - 7s 9ms/sample - loss: 3.6272e-04 - val_loss: 0.0024\n",
      "Epoch 10/100\n",
      "716/716 [==============================] - 7s 9ms/sample - loss: 3.6576e-04 - val_loss: 0.0024\n",
      "Epoch 11/100\n",
      "716/716 [==============================] - 6s 9ms/sample - loss: 3.5797e-04 - val_loss: 0.0023\n",
      "Epoch 12/100\n",
      "716/716 [==============================] - 6s 9ms/sample - loss: 3.7425e-04 - val_loss: 0.0023\n",
      "Epoch 13/100\n",
      "716/716 [==============================] - 6s 9ms/sample - loss: 3.5322e-04 - val_loss: 0.0024\n",
      "Epoch 14/100\n",
      "716/716 [==============================] - 6s 9ms/sample - loss: 3.6577e-04 - val_loss: 0.0022\n",
      "Epoch 15/100\n",
      "716/716 [==============================] - 7s 10ms/sample - loss: 3.4748e-04 - val_loss: 0.0021\n",
      "Epoch 16/100\n",
      "716/716 [==============================] - 7s 10ms/sample - loss: 3.3552e-04 - val_loss: 0.0021\n",
      "Epoch 17/100\n",
      "716/716 [==============================] - 7s 9ms/sample - loss: 3.3737e-04 - val_loss: 0.0020\n",
      "Epoch 18/100\n",
      "716/716 [==============================] - 7s 9ms/sample - loss: 3.4144e-04 - val_loss: 0.0022\n",
      "Epoch 19/100\n",
      "716/716 [==============================] - 7s 10ms/sample - loss: 3.6528e-04 - val_loss: 0.0027\n",
      "Epoch 20/100\n",
      "716/716 [==============================] - 6s 9ms/sample - loss: 3.3204e-04 - val_loss: 0.0019\n",
      "Epoch 21/100\n",
      "716/716 [==============================] - 6s 9ms/sample - loss: 3.3348e-04 - val_loss: 0.0023\n",
      "Epoch 22/100\n",
      "716/716 [==============================] - 6s 9ms/sample - loss: 3.2332e-04 - val_loss: 0.0018\n",
      "Epoch 23/100\n",
      "716/716 [==============================] - 6s 9ms/sample - loss: 3.0342e-04 - val_loss: 0.0020\n",
      "Epoch 24/100\n",
      "716/716 [==============================] - 6s 9ms/sample - loss: 3.4450e-04 - val_loss: 0.0019\n",
      "Epoch 25/100\n",
      "716/716 [==============================] - 6s 9ms/sample - loss: 3.3842e-04 - val_loss: 0.0020\n",
      "Epoch 26/100\n",
      "716/716 [==============================] - 6s 9ms/sample - loss: 3.2434e-04 - val_loss: 0.0017\n",
      "Epoch 27/100\n",
      "716/716 [==============================] - 6s 9ms/sample - loss: 3.0140e-04 - val_loss: 0.0016\n",
      "Epoch 28/100\n",
      "716/716 [==============================] - 6s 9ms/sample - loss: 3.3677e-04 - val_loss: 0.0020\n",
      "Epoch 29/100\n",
      "716/716 [==============================] - 7s 9ms/sample - loss: 3.7235e-04 - val_loss: 0.0020\n",
      "Epoch 30/100\n",
      "716/716 [==============================] - 7s 10ms/sample - loss: 2.8644e-04 - val_loss: 0.0022\n",
      "Epoch 31/100\n",
      "716/716 [==============================] - 7s 9ms/sample - loss: 3.4710e-04 - val_loss: 0.0022\n",
      "Epoch 32/100\n",
      "716/716 [==============================] - 7s 9ms/sample - loss: 2.9382e-04 - val_loss: 0.0017\n",
      "Epoch 33/100\n",
      "716/716 [==============================] - 7s 10ms/sample - loss: 2.6814e-04 - val_loss: 0.0015\n",
      "Epoch 34/100\n",
      "716/716 [==============================] - 7s 9ms/sample - loss: 2.5472e-04 - val_loss: 0.0013\n",
      "Epoch 35/100\n",
      "716/716 [==============================] - 6s 9ms/sample - loss: 2.6711e-04 - val_loss: 0.0013\n",
      "Epoch 36/100\n",
      "716/716 [==============================] - 6s 9ms/sample - loss: 2.4943e-04 - val_loss: 0.0014\n",
      "Epoch 37/100\n",
      "716/716 [==============================] - 6s 9ms/sample - loss: 2.5025e-04 - val_loss: 0.0012\n",
      "Epoch 38/100\n",
      "716/716 [==============================] - 6s 9ms/sample - loss: 2.4685e-04 - val_loss: 0.0014\n",
      "Epoch 39/100\n",
      "716/716 [==============================] - 6s 9ms/sample - loss: 2.4678e-04 - val_loss: 0.0012\n",
      "Epoch 40/100\n",
      "716/716 [==============================] - 6s 9ms/sample - loss: 2.3976e-04 - val_loss: 0.0011\n",
      "Epoch 41/100\n",
      "716/716 [==============================] - 6s 9ms/sample - loss: 2.2939e-04 - val_loss: 0.0011\n",
      "Epoch 42/100\n",
      "716/716 [==============================] - 6s 9ms/sample - loss: 2.4558e-04 - val_loss: 0.0011\n",
      "Epoch 43/100\n",
      "716/716 [==============================] - 6s 9ms/sample - loss: 2.5100e-04 - val_loss: 0.0013\n",
      "Epoch 44/100\n",
      "716/716 [==============================] - 6s 9ms/sample - loss: 2.2805e-04 - val_loss: 0.0012\n",
      "Epoch 45/100\n",
      "716/716 [==============================] - 6s 9ms/sample - loss: 2.1177e-04 - val_loss: 0.0010\n",
      "Epoch 46/100\n",
      "716/716 [==============================] - 6s 9ms/sample - loss: 2.2970e-04 - val_loss: 0.0015\n",
      "Epoch 47/100\n",
      "716/716 [==============================] - 6s 9ms/sample - loss: 2.1767e-04 - val_loss: 0.0010\n",
      "Epoch 48/100\n",
      "716/716 [==============================] - 7s 9ms/sample - loss: 2.0988e-04 - val_loss: 9.9661e-04\n",
      "Epoch 49/100\n",
      "716/716 [==============================] - 7s 9ms/sample - loss: 2.0089e-04 - val_loss: 9.7714e-04\n",
      "Epoch 50/100\n",
      "716/716 [==============================] - 7s 10ms/sample - loss: 1.9945e-04 - val_loss: 9.9890e-04\n",
      "Epoch 51/100\n",
      "716/716 [==============================] - 7s 10ms/sample - loss: 2.0118e-04 - val_loss: 9.3893e-04\n",
      "Epoch 52/100\n",
      "716/716 [==============================] - 8s 12ms/sample - loss: 1.8941e-04 - val_loss: 9.2592e-04\n",
      "Epoch 53/100\n",
      "716/716 [==============================] - 6s 9ms/sample - loss: 1.8993e-04 - val_loss: 9.0862e-04\n",
      "Epoch 54/100\n",
      "716/716 [==============================] - 7s 9ms/sample - loss: 2.0065e-04 - val_loss: 0.0012\n",
      "Epoch 55/100\n",
      "716/716 [==============================] - 6s 9ms/sample - loss: 1.8584e-04 - val_loss: 8.9526e-04\n",
      "Epoch 56/100\n",
      "716/716 [==============================] - 6s 9ms/sample - loss: 1.8217e-04 - val_loss: 9.1873e-04\n",
      "Epoch 57/100\n",
      "716/716 [==============================] - 6s 9ms/sample - loss: 1.7578e-04 - val_loss: 0.0010\n",
      "Epoch 58/100\n",
      "716/716 [==============================] - 6s 9ms/sample - loss: 1.7692e-04 - val_loss: 9.5993e-04\n",
      "Epoch 59/100\n",
      "716/716 [==============================] - 7s 10ms/sample - loss: 1.7984e-04 - val_loss: 9.5506e-04\n",
      "Epoch 60/100\n",
      "716/716 [==============================] - 7s 9ms/sample - loss: 1.7938e-04 - val_loss: 9.5096e-04\n",
      "Epoch 61/100\n",
      "716/716 [==============================] - 7s 10ms/sample - loss: 1.7078e-04 - val_loss: 8.5409e-04\n",
      "Epoch 62/100\n",
      "716/716 [==============================] - 7s 10ms/sample - loss: 1.6901e-04 - val_loss: 8.7824e-04\n",
      "Epoch 63/100\n",
      "716/716 [==============================] - 8s 11ms/sample - loss: 1.5455e-04 - val_loss: 8.9557e-04\n",
      "Epoch 64/100\n",
      "716/716 [==============================] - 7s 10ms/sample - loss: 1.6062e-04 - val_loss: 8.8735e-04\n",
      "Epoch 65/100\n",
      "716/716 [==============================] - 7s 9ms/sample - loss: 1.5265e-04 - val_loss: 8.7216e-04\n",
      "Epoch 66/100\n",
      "716/716 [==============================] - 7s 9ms/sample - loss: 1.5366e-04 - val_loss: 9.4124e-04\n",
      "Epoch 67/100\n",
      "716/716 [==============================] - 7s 10ms/sample - loss: 1.5231e-04 - val_loss: 8.1838e-04\n",
      "Epoch 68/100\n",
      "716/716 [==============================] - 7s 9ms/sample - loss: 1.4984e-04 - val_loss: 9.7196e-04\n",
      "Epoch 69/100\n",
      "716/716 [==============================] - 6s 9ms/sample - loss: 1.4538e-04 - val_loss: 9.3402e-04\n",
      "Epoch 70/100\n",
      "716/716 [==============================] - 6s 9ms/sample - loss: 1.7449e-04 - val_loss: 8.1904e-04\n",
      "Epoch 71/100\n",
      "716/716 [==============================] - 7s 9ms/sample - loss: 1.6579e-04 - val_loss: 9.9972e-04\n",
      "Epoch 72/100\n",
      "716/716 [==============================] - 7s 10ms/sample - loss: 1.5143e-04 - val_loss: 8.4761e-04\n",
      "Epoch 73/100\n"
     ]
    },
    {
     "name": "stdout",
     "output_type": "stream",
     "text": [
      "716/716 [==============================] - 7s 9ms/sample - loss: 1.5983e-04 - val_loss: 7.9554e-04\n",
      "Epoch 74/100\n",
      "716/716 [==============================] - 7s 10ms/sample - loss: 1.3459e-04 - val_loss: 7.9640e-04\n",
      "Epoch 75/100\n",
      "716/716 [==============================] - 7s 9ms/sample - loss: 1.3820e-04 - val_loss: 0.0011\n",
      "Epoch 76/100\n",
      "716/716 [==============================] - 7s 10ms/sample - loss: 1.6716e-04 - val_loss: 0.0011\n",
      "Epoch 77/100\n",
      "716/716 [==============================] - 7s 10ms/sample - loss: 1.5378e-04 - val_loss: 8.7909e-04\n",
      "Epoch 78/100\n",
      "716/716 [==============================] - 7s 10ms/sample - loss: 1.3699e-04 - val_loss: 8.9621e-04\n",
      "Epoch 79/100\n",
      "716/716 [==============================] - 7s 10ms/sample - loss: 1.2812e-04 - val_loss: 7.3555e-04\n",
      "Epoch 80/100\n",
      "716/716 [==============================] - 7s 10ms/sample - loss: 1.2328e-04 - val_loss: 7.5844e-04\n",
      "Epoch 81/100\n",
      "716/716 [==============================] - 8s 11ms/sample - loss: 1.2936e-04 - val_loss: 0.0010\n",
      "Epoch 82/100\n",
      "716/716 [==============================] - 7s 10ms/sample - loss: 1.2982e-04 - val_loss: 7.8108e-04\n",
      "Epoch 83/100\n",
      "716/716 [==============================] - 7s 10ms/sample - loss: 1.1941e-04 - val_loss: 7.3117e-04\n",
      "Epoch 84/100\n",
      "716/716 [==============================] - 7s 9ms/sample - loss: 1.2264e-04 - val_loss: 8.7285e-04\n",
      "Epoch 85/100\n",
      "716/716 [==============================] - 6s 9ms/sample - loss: 1.1589e-04 - val_loss: 6.9765e-04\n",
      "Epoch 86/100\n",
      "716/716 [==============================] - 7s 9ms/sample - loss: 1.1789e-04 - val_loss: 8.7158e-04\n",
      "Epoch 87/100\n",
      "716/716 [==============================] - 7s 9ms/sample - loss: 1.2668e-04 - val_loss: 6.9477e-04\n",
      "Epoch 88/100\n",
      "716/716 [==============================] - 7s 9ms/sample - loss: 1.1182e-04 - val_loss: 7.0534e-04\n",
      "Epoch 89/100\n",
      "716/716 [==============================] - 7s 9ms/sample - loss: 1.1323e-04 - val_loss: 6.9814e-04\n",
      "Epoch 90/100\n",
      "716/716 [==============================] - 7s 10ms/sample - loss: 1.1435e-04 - val_loss: 6.6230e-04\n",
      "Epoch 91/100\n",
      "716/716 [==============================] - 7s 9ms/sample - loss: 1.1512e-04 - val_loss: 0.0011\n",
      "Epoch 92/100\n",
      "716/716 [==============================] - 6s 9ms/sample - loss: 1.2453e-04 - val_loss: 0.0015\n",
      "Epoch 93/100\n",
      "716/716 [==============================] - 6s 9ms/sample - loss: 1.4359e-04 - val_loss: 9.3139e-04\n",
      "Epoch 94/100\n",
      "716/716 [==============================] - 6s 9ms/sample - loss: 1.2393e-04 - val_loss: 7.0831e-04\n",
      "Epoch 95/100\n",
      "716/716 [==============================] - 7s 9ms/sample - loss: 1.0140e-04 - val_loss: 6.8974e-04\n",
      "Epoch 96/100\n",
      "716/716 [==============================] - 6s 9ms/sample - loss: 9.9815e-05 - val_loss: 7.5025e-04\n",
      "Epoch 97/100\n",
      "716/716 [==============================] - 6s 9ms/sample - loss: 1.0318e-04 - val_loss: 6.6414e-04\n",
      "Epoch 98/100\n",
      "716/716 [==============================] - 6s 9ms/sample - loss: 1.0575e-04 - val_loss: 8.6385e-04\n",
      "Epoch 99/100\n",
      "716/716 [==============================] - 6s 9ms/sample - loss: 1.0340e-04 - val_loss: 6.2966e-04\n",
      "Epoch 100/100\n",
      "716/716 [==============================] - 6s 9ms/sample - loss: 1.0614e-04 - val_loss: 6.1823e-04\n"
     ]
    },
    {
     "data": {
      "text/plain": [
       "<tensorflow.python.keras.callbacks.History at 0x22938862be0>"
      ]
     },
     "execution_count": 47,
     "metadata": {},
     "output_type": "execute_result"
    }
   ],
   "source": [
    "model.fit(X_train,y_train,validation_data=(X_test,y_test),batch_size=64,epochs=100,verbose=1)"
   ]
  },
  {
   "cell_type": "code",
   "execution_count": 48,
   "metadata": {},
   "outputs": [],
   "source": [
    "import tensorflow as tf"
   ]
  },
  {
   "cell_type": "code",
   "execution_count": 49,
   "metadata": {},
   "outputs": [],
   "source": [
    "train_predict=model.predict(X_train)\n",
    "test_predict=model.predict(X_test)"
   ]
  },
  {
   "cell_type": "code",
   "execution_count": 51,
   "metadata": {},
   "outputs": [],
   "source": [
    "##Transformback to original form\n",
    "train_predict=mms.inverse_transform(train_predict)\n",
    "test_predict=mms.inverse_transform(test_predict)"
   ]
  },
  {
   "cell_type": "code",
   "execution_count": 52,
   "metadata": {},
   "outputs": [
    {
     "data": {
      "text/plain": [
       "148.0584123162192"
      ]
     },
     "execution_count": 52,
     "metadata": {},
     "output_type": "execute_result"
    }
   ],
   "source": [
    "### Calculate RMSE performance metrics\n",
    "import math\n",
    "from sklearn.metrics import mean_squared_error\n",
    "math.sqrt(mean_squared_error(y_train,train_predict))"
   ]
  },
  {
   "cell_type": "code",
   "execution_count": 53,
   "metadata": {},
   "outputs": [
    {
     "data": {
      "text/plain": [
       "256.49213549405766"
      ]
     },
     "execution_count": 53,
     "metadata": {},
     "output_type": "execute_result"
    }
   ],
   "source": [
    "math.sqrt(mean_squared_error(y_test,test_predict))"
   ]
  },
  {
   "cell_type": "markdown",
   "metadata": {},
   "source": [
    "**Plotting**"
   ]
  },
  {
   "cell_type": "code",
   "execution_count": 56,
   "metadata": {},
   "outputs": [],
   "source": [
    "# shift train predictions for plotting\n",
    "look_back=100\n",
    "trainPredictPlot=np.empty_like(df1)\n",
    "trainPredictPlot[:,:]=np.nan\n",
    "trainPredictPlot[look_back:len(train_predict)+look_back,:]=train_predict"
   ]
  },
  {
   "cell_type": "code",
   "execution_count": 57,
   "metadata": {},
   "outputs": [],
   "source": [
    "# shift test predictions for plotting\n",
    "testPredictPlot=np.empty_like(df1)\n",
    "testPredictPlot[:,:]=np.nan\n",
    "testPredictPlot[len(train_predict)+(look_back*2)+1:len(df1)-1,:]=test_predict"
   ]
  },
  {
   "cell_type": "code",
   "execution_count": 60,
   "metadata": {},
   "outputs": [
    {
     "data": {
      "image/png": "[encoded data removed]",
      "text/plain": [
       "<Figure size 432x288 with 1 Axes>"
      ]
     },
     "metadata": {
      "needs_background": "light"
     },
     "output_type": "display_data"
    }
   ],
   "source": [
    "plt.plot(mms.inverse_transform(df1))\n",
    "plt.plot(trainPredictPlot)\n",
    "plt.plot(testPredictPlot)\n",
    "plt.show()"
   ]
  },
  {
   "cell_type": "code",
   "execution_count": 61,
   "metadata": {},
   "outputs": [
    {
     "data": {
      "text/plain": [
       "441"
      ]
     },
     "execution_count": 61,
     "metadata": {},
     "output_type": "execute_result"
    }
   ],
   "source": [
    "len(test_data)"
   ]
  },
  {
   "cell_type": "code",
   "execution_count": 63,
   "metadata": {},
   "outputs": [
    {
     "data": {
      "text/plain": [
       "(1, 100)"
      ]
     },
     "execution_count": 63,
     "metadata": {},
     "output_type": "execute_result"
    }
   ],
   "source": [
    "x_input=test_data[341:].reshape(1,-1)\n",
    "x_input.shape"
   ]
  },
  {
   "cell_type": "code",
   "execution_count": 64,
   "metadata": {},
   "outputs": [],
   "source": [
    "temp_input=list(x_input)\n",
    "temp_input=temp_input[0].tolist()"
   ]
  },
  {
   "cell_type": "code",
   "execution_count": 65,
   "metadata": {},
   "outputs": [
    {
     "data": {
      "text/plain": [
       "[0.782037689387462,\n",
       " 0.7978385033687881,\n",
       " 0.7864838058757139,\n",
       " 0.7616881562296932,\n",
       " 0.7108314237833032,\n",
       " 0.6762885187591914,\n",
       " 0.6919183282602003,\n",
       " 0.626492014090769,\n",
       " 0.6259447997537536,\n",
       " 0.7129860802353022,\n",
       " 0.6805294298710626,\n",
       " 0.7264270323882486,\n",
       " 0.6928417524539142,\n",
       " 0.6795376038852217,\n",
       " 0.6013543554841138,\n",
       " 0.6669174732377987,\n",
       " 0.6330243852388933,\n",
       " 0.5399979479462361,\n",
       " 0.6417114128390164,\n",
       " 0.5194090085160231,\n",
       " 0.555832962823626,\n",
       " 0.5346626081603337,\n",
       " 0.5281986388043367,\n",
       " 0.4750504463216937,\n",
       " 0.45839460993878034,\n",
       " 0.5353808269776668,\n",
       " 0.530729505113034,\n",
       " 0.574917062827046,\n",
       " 0.5383221040391258,\n",
       " 0.562502137556004,\n",
       " 0.5607236909607031,\n",
       " 0.5149628920277711,\n",
       " 0.5287116522452888,\n",
       " 0.516672936830945,\n",
       " 0.5887000239406273,\n",
       " 0.5783029515373302,\n",
       " 0.6010123465234789,\n",
       " 0.6075789185676664,\n",
       " 0.6255685898970553,\n",
       " 0.6727658264646534,\n",
       " 0.6638051916960225,\n",
       " 0.6715345942063682,\n",
       " 0.6582304456376757,\n",
       " 0.6381545196484147,\n",
       " 0.6088785526180786,\n",
       " 0.6353158452751463,\n",
       " 0.6316563493963541,\n",
       " 0.6588118608707548,\n",
       " 0.6594958787920244,\n",
       " 0.6437976674988883,\n",
       " 0.6750914873969699,\n",
       " 0.6958514313075003,\n",
       " 0.6796744074694756,\n",
       " 0.6936625739594379,\n",
       " 0.7087109682273675,\n",
       " 0.7192106433188549,\n",
       " 0.7298471219945962,\n",
       " 0.7517014945791579,\n",
       " 0.7683915318581346,\n",
       " 0.7560792092752832,\n",
       " 0.7432196723554155,\n",
       " 0.7496836417114129,\n",
       " 0.7434248777317966,\n",
       " 0.7682205273778172,\n",
       " 0.7619959642942645,\n",
       " 0.782824309996922,\n",
       " 0.7746844967338146,\n",
       " 0.7816614795307636,\n",
       " 0.7742740859810527,\n",
       " 0.7789938096378125,\n",
       " 0.7794726221827012,\n",
       " 0.7784123944047333,\n",
       " 0.7917849447655528,\n",
       " 0.7968808782790108,\n",
       " 0.8029686377783097,\n",
       " 0.7933923868805363,\n",
       " 0.824788809466808,\n",
       " 0.8314921850952494,\n",
       " 0.8675057286500906,\n",
       " 0.8977735216662676,\n",
       " 0.8398372037347378,\n",
       " 0.8497554635931462,\n",
       " 0.8640856390437429,\n",
       " 0.8951742535654433,\n",
       " 0.893498409658333,\n",
       " 0.8939772222032217,\n",
       " 0.887102842094463,\n",
       " 0.9183966619925442,\n",
       " 0.9445945483771673,\n",
       " 0.9224665686240979,\n",
       " 0.9388145969424398,\n",
       " 0.9004753924552823,\n",
       " 0.9283491227470159,\n",
       " 0.9386777933581859,\n",
       " 0.9363179315298061,\n",
       " 0.9363179315298061,\n",
       " 0.9696296042956326,\n",
       " 0.9656623003522692,\n",
       " 0.9953486781353672,\n",
       " 1.0]"
      ]
     },
     "execution_count": 65,
     "metadata": {},
     "output_type": "execute_result"
    }
   ],
   "source": [
    "temp_input"
   ]
  },
  {
   "cell_type": "markdown",
   "metadata": {},
   "source": [
    "**Prediction for next 30 days**"
   ]
  },
  {
   "cell_type": "code",
   "execution_count": 67,
   "metadata": {},
   "outputs": [
    {
     "name": "stdout",
     "output_type": "stream",
     "text": [
      "[0.979924]\n",
      "[0.782037689387462, 0.7978385033687881, 0.7864838058757139, 0.7616881562296932, 0.7108314237833032, 0.6762885187591914, 0.6919183282602003, 0.626492014090769, 0.6259447997537536, 0.7129860802353022, 0.6805294298710626, 0.7264270323882486, 0.6928417524539142, 0.6795376038852217, 0.6013543554841138, 0.6669174732377987, 0.6330243852388933, 0.5399979479462361, 0.6417114128390164, 0.5194090085160231, 0.555832962823626, 0.5346626081603337, 0.5281986388043367, 0.4750504463216937, 0.45839460993878034, 0.5353808269776668, 0.530729505113034, 0.574917062827046, 0.5383221040391258, 0.562502137556004, 0.5607236909607031, 0.5149628920277711, 0.5287116522452888, 0.516672936830945, 0.5887000239406273, 0.5783029515373302, 0.6010123465234789, 0.6075789185676664, 0.6255685898970553, 0.6727658264646534, 0.6638051916960225, 0.6715345942063682, 0.6582304456376757, 0.6381545196484147, 0.6088785526180786, 0.6353158452751463, 0.6316563493963541, 0.6588118608707548, 0.6594958787920244, 0.6437976674988883, 0.6750914873969699, 0.6958514313075003, 0.6796744074694756, 0.6936625739594379, 0.7087109682273675, 0.7192106433188549, 0.7298471219945962, 0.7517014945791579, 0.7683915318581346, 0.7560792092752832, 0.7432196723554155, 0.7496836417114129, 0.7434248777317966, 0.7682205273778172, 0.7619959642942645, 0.782824309996922, 0.7746844967338146, 0.7816614795307636, 0.7742740859810527, 0.7789938096378125, 0.7794726221827012, 0.7784123944047333, 0.7917849447655528, 0.7968808782790108, 0.8029686377783097, 0.7933923868805363, 0.824788809466808, 0.8314921850952494, 0.8675057286500906, 0.8977735216662676, 0.8398372037347378, 0.8497554635931462, 0.8640856390437429, 0.8951742535654433, 0.893498409658333, 0.8939772222032217, 0.887102842094463, 0.9183966619925442, 0.9445945483771673, 0.9224665686240979, 0.9388145969424398, 0.9004753924552823, 0.9283491227470159, 0.9386777933581859, 0.9363179315298061, 0.9363179315298061, 0.9696296042956326, 0.9656623003522692, 0.9953486781353672, 1.0, 0.9799240231513977]\n"
     ]
    }
   ],
   "source": [
    "from numpy import array\n",
    "n_steps=100\n",
    "output=[]\n",
    "i=0\n",
    "while(i<30):\n",
    "    if(len(temp_input)>100):\n",
    "        x_input=np.array(temp_input[1:])\n",
    "        x_input=x_input.reshape(1,-1)\n",
    "        x_input=x_input.reshape(1,n_steps,1)\n",
    "        yhat=model.predict(x_input,verbose=0)\n",
    "        temp_input.extend(yhat[0].tolist())\n",
    "        temp_input=temp_input[1:]\n",
    "        output.extend(yhat.tolist())\n",
    "        i=i+1\n",
    "    else:\n",
    "        x_input=x_input.reshape(1,n_steps,1)\n",
    "        yhat=model.predict(x_input,verbose=0)\n",
    "        print(yhat[0])\n",
    "        temp_input.extend(yhat[0].tolist())\n",
    "        print(temp_input)\n",
    "        output.extend(yhat.tolist())\n",
    "        i=i+1"
   ]
  },
  {
   "cell_type": "code",
   "execution_count": 69,
   "metadata": {},
   "outputs": [],
   "source": [
    "day_new=np.arange(1,101)\n",
    "day_pred=np.arange(101,131)"
   ]
  },
  {
   "cell_type": "code",
   "execution_count": 70,
   "metadata": {},
   "outputs": [
    {
     "data": {
      "text/plain": [
       "1258"
      ]
     },
     "execution_count": 70,
     "metadata": {},
     "output_type": "execute_result"
    }
   ],
   "source": [
    "len(df1)"
   ]
  },
  {
   "cell_type": "code",
   "execution_count": 71,
   "metadata": {},
   "outputs": [
    {
     "data": {
      "image/png": "[encoded data removed]",
      "text/plain": [
       "<Figure size 432x288 with 1 Axes>"
      ]
     },
     "metadata": {
      "needs_background": "light"
     },
     "output_type": "display_data"
    }
   ],
   "source": [
    "plt.plot(day_new,mms.inverse_transform(df1[1158:]))\n",
    "plt.plot(day_pred,mms.inverse_transform(output))\n",
    "plt.show()"
   ]
  },
  {
   "cell_type": "code",
   "execution_count": 72,
   "metadata": {},
   "outputs": [
    {
     "data": {
      "image/png": "[encoded data removed]",
      "text/plain": [
       "<Figure size 432x288 with 1 Axes>"
      ]
     },
     "metadata": {
      "needs_background": "light"
     },
     "output_type": "display_data"
    }
   ],
   "source": [
    "df3=df1.tolist()\n",
    "df3.extend(output)\n",
    "plt.plot(df3[1200:])\n",
    "plt.show()"
   ]
  },
  {
   "cell_type": "code",
   "execution_count": 74,
   "metadata": {},
   "outputs": [],
   "source": [
    "df3=mms.inverse_transform(df3).tolist()"
   ]
  },
  {
   "cell_type": "code",
   "execution_count": 75,
   "metadata": {},
   "outputs": [
    {
     "data": {
      "image/png": "[encoded data removed]",
      "text/plain": [
       "<Figure size 432x288 with 1 Axes>"
      ]
     },
     "metadata": {
      "needs_background": "light"
     },
     "output_type": "display_data"
    }
   ],
   "source": [
    "plt.plot(df3)\n",
    "plt.show()"
   ]
  },
  {
   "cell_type": "code",
   "execution_count": null,
   "metadata": {},
   "outputs": [],
   "source": []
  }
 ],
 "metadata": {
  "kernelspec": {
   "display_name": "Python 3",
   "language": "python",
   "name": "python3"
  },
  "language_info": {
   "codemirror_mode": {
    "name": "ipython",
    "version": 3
   },
   "file_extension": ".py",
   "mimetype": "text/x-python",
   "name": "python",
   "nbconvert_exporter": "python",
   "pygments_lexer": "ipython3",
   "version": "3.7.3"
  }
 },
 "nbformat": 4,
 "nbformat_minor": 2
}
